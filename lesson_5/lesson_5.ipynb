{
 "cells": [
  {
   "cell_type": "markdown",
   "source": [
    "# Построение геометрии"
   ],
   "metadata": {}
  },
  {
   "cell_type": "markdown",
   "source": [
    "некоторые вспомагательные функции, которые понадобятся в процессе"
   ],
   "metadata": {}
  },
  {
   "outputs": [],
   "cell_type": "code",
   "source": [
    "findin(a, b) = a[findall(in(b), a)]\n",
    "tcf(filename::String) = (@__DIR__) * \"\\\\\" * filename;"
   ],
   "metadata": {},
   "execution_count": 1
  },
  {
   "cell_type": "markdown",
   "source": [
    "Подключаем gmsh и инциализируем его, после чего моздаем модель и задаем базовый размер репрезентативной ячейки:"
   ],
   "metadata": {}
  },
  {
   "outputs": [],
   "cell_type": "code",
   "source": [
    "using Gmsh\n",
    "\n",
    "gmsh.initialize()\n",
    "\n",
    "factory = gmsh.model.occ\n",
    "gmsh.model.add(\"model\")\n",
    "\n",
    "cell_size = 1;"
   ],
   "metadata": {},
   "execution_count": 2
  },
  {
   "cell_type": "markdown",
   "source": [
    "Исследуемая геометрия чем-то напомнимает сыр и представляет собой прямоугольник с крыглыми отверстиями.\n",
    "Для этого создадим прямоугольник размером `cell_size`, затем некоторое количество окружностей, которые в дальнейшем будут вырезаны из прямоугольной области.\n",
    "Следует заметить, что булевы операции возможны лишь для 2D или 3D объектов.\n",
    "Тут необходимо учесть некоторую особонность построения геометрии в **gmsh** - при создании прямоугольника, будет созданы необходимые отрезки, замкнутый контур и участок поверхности, ограниченный данным контуром.\n",
    "В случае же окружностей будут созданы только лишь замкнутые дуги, т.е. 1D объекты.\n",
    "Поэтому прежде чем произвести операцию вырезки, необходимо создать контур для каждой окружности (состоящий из одной окружности) и \"натянуть\" на созданные контура поверхности при помощи функции `addPlaneSurface`."
   ],
   "metadata": {}
  },
  {
   "outputs": [],
   "cell_type": "code",
   "source": [
    "rect = factory.addRectangle(-0.5 * cell_size, -0.5 * cell_size, 0, cell_size, cell_size);\n",
    "\n",
    "\n",
    "holes = [];\n",
    "\n",
    "for i in 1:20\n",
    "    xy = rand(2) .- 0.5;;\n",
    "    r = 0.05;\n",
    "    circle = factory.addCircle(xy[1], xy[2], 0, r);\n",
    "    inner_loop = factory.addCurveLoop([circle]);\n",
    "    hole = factory.addPlaneSurface([inner_loop]);\n",
    "    push!(holes, (2, hole));\n",
    "end"
   ],
   "metadata": {},
   "execution_count": 3
  },
  {
   "cell_type": "markdown",
   "source": [
    "Теперь можно удалить созданные кругляши из прямоугольника, воспользовавшись функцией `cut`"
   ],
   "metadata": {}
  },
  {
   "outputs": [],
   "cell_type": "code",
   "source": [
    "diff = factory.cut([(2, rect)], holes, -1, true, true)\n",
    "\n",
    "factory.synchronize()"
   ],
   "metadata": {},
   "execution_count": 4
  },
  {
   "cell_type": "markdown",
   "source": [
    "В некоторых случаях может оставаться избыточная геометрия, которая будет мешать создать модель.\n",
    "Поэтому удалим все 1D объекты, которые не входят в границу нашей ячейки"
   ],
   "metadata": {}
  },
  {
   "outputs": [],
   "cell_type": "code",
   "source": [
    "entities = factory.getEntities(2)\n",
    "\n",
    "surface_boundary = gmsh.model.getBoundary(entities)\n",
    "\n",
    "edges_for_leave = [abs(tag[2]) for tag in surface_boundary]\n",
    "\n",
    "all_edges = [abs(tag[2]) for tag in factory.getEntities(1)]\n",
    "\n",
    "edges_for_remove = []\n",
    "for edge in all_edges\n",
    "    if  !(edge in edges_for_leave)\n",
    "        push!(edges_for_remove, edge)\n",
    "    end\n",
    "end\n",
    "\n",
    "dimtag_for_remove = [(1, tag) for tag in edges_for_remove]\n",
    "factory.remove(dimtag_for_remove)\n",
    "\n",
    "factory.synchronize()"
   ],
   "metadata": {},
   "execution_count": 5
  },
  {
   "cell_type": "markdown",
   "source": [
    "Далее необходимо создаnm физические группы для созданной геометрией. Группа для всей геометрии:"
   ],
   "metadata": {}
  },
  {
   "outputs": [],
   "cell_type": "code",
   "source": [
    "for dim in 0:2\n",
    "    entities = gmsh.model.occ.getEntities(dim)\n",
    "    tags = [entity[2] for entity in entities]\n",
    "    gmsh.model.addPhysicalGroup(dim, tags, -1, \"domain\")\n",
    "end"
   ],
   "metadata": {},
   "execution_count": 6
  },
  {
   "cell_type": "markdown",
   "source": [
    "Далее создаем физические группы для границ.\n",
    "Границы можно выделить при помощи инструмента `boundingBox`, что напоминает выделение мышкой на экране прямоугольной области.\n",
    "Для начала создадим 4 области, в которые входят боковые границы ячейки:"
   ],
   "metadata": {}
  },
  {
   "outputs": [
    {
     "output_type": "execute_result",
     "data": {
      "text/plain": "4-element Vector{Vector{Float64}}:\n [-0.5001, -0.5001, -0.0001, -0.4999, 0.5001, 0.0001]\n [-0.5001, -0.5001, -0.0001, 0.5001, -0.4999, 0.0001]\n [0.4999, -0.5001, -0.0001, 0.5001, 0.5001, 0.0001]\n [-0.5001, 0.4999, -0.0001, 0.5001, 0.5001, 0.0001]"
     },
     "metadata": {},
     "execution_count": 7
    }
   ],
   "cell_type": "code",
   "source": [
    "eps = cell_size * 1e-4;\n",
    "left_boundary_bbox = [\n",
    "    (- cell_size/2 - eps),\n",
    "    (- cell_size/2 - eps),\n",
    "    (- eps),\n",
    "    (- cell_size/2 + eps),\n",
    "    (+ cell_size/2 + eps),\n",
    "    (+ eps)\n",
    "]\n",
    "right_boundary_bbox = [\n",
    "    (+ cell_size/2 - eps),\n",
    "    (- cell_size/2 - eps),\n",
    "    (- eps),\n",
    "    (+ cell_size/2 + eps),\n",
    "    (+ cell_size/2 + eps),\n",
    "    (+ eps)\n",
    "]\n",
    "bottom_boundary_bbox = [\n",
    "    (- cell_size/2 - eps),\n",
    "    (- cell_size/2 - eps),\n",
    "    (- eps),\n",
    "    (+ cell_size/2 + eps),\n",
    "    (- cell_size/2 + eps),\n",
    "    (+ eps)\n",
    "]\n",
    "top_boundary_bbox = [\n",
    "    (- cell_size/2 - eps),\n",
    "    (+ cell_size/2 - eps),\n",
    "    (- eps),\n",
    "    (+ cell_size/2 + eps),\n",
    "    (+ cell_size/2 + eps),\n",
    "    (+ eps)\n",
    "]\n",
    "\n",
    "bounds = [left_boundary_bbox, bottom_boundary_bbox, right_boundary_bbox, top_boundary_bbox]"
   ],
   "metadata": {},
   "execution_count": 7
  },
  {
   "cell_type": "markdown",
   "source": [
    "Далее создадим две физические группы: с узлами (1D объекты) и с ребрами (2D объекты)"
   ],
   "metadata": {}
  },
  {
   "outputs": [],
   "cell_type": "code",
   "source": [
    "boundary_name = \"boundary\";\n",
    "for dim in 0:1\n",
    "    entities = []\n",
    "    for bbox in bounds\n",
    "        push!(entities, factory.getEntitiesInBoundingBox(bbox..., dim)...)\n",
    "    end\n",
    "    tags = [entity[2] for entity in entities]\n",
    "    gmsh.model.addPhysicalGroup(dim, tags, -1, boundary_name)\n",
    "end\n",
    "gmsh.model.occ.synchronize()"
   ],
   "metadata": {},
   "execution_count": 8
  },
  {
   "cell_type": "markdown",
   "source": [
    "Теперь осталось задать параметры сетки и запустить генерацию сетки, после чего созданная геометрия может быть сохранена в файл"
   ],
   "metadata": {}
  },
  {
   "outputs": [
    {
     "name": "stdout",
     "output_type": "stream",
     "text": [
      "Info    : Meshing 1D...\n",
      "Info    : [  0%] Meshing curve 1 (Line)\n",
      "Info    : [ 10%] Meshing curve 2 (Line)\n",
      "Info    : [ 10%] Meshing curve 3 (Circle)\n",
      "Info    : [ 10%] Meshing curve 4 (Circle)\n",
      "Info    : [ 20%] Meshing curve 5 (Line)\n",
      "Info    : [ 20%] Meshing curve 6 (Line)\n",
      "Info    : [ 20%] Meshing curve 7 (Circle)\n",
      "Info    : [ 20%] Meshing curve 8 (Line)\n",
      "Info    : [ 30%] Meshing curve 9 (Line)\n",
      "Info    : [ 30%] Meshing curve 10 (Circle)\n",
      "Info    : [ 30%] Meshing curve 11 (Circle)\n",
      "Info    : [ 40%] Meshing curve 12 (Circle)\n",
      "Info    : [ 40%] Meshing curve 13 (Circle)\n",
      "Info    : [ 40%] Meshing curve 14 (Circle)\n",
      "Info    : [ 40%] Meshing curve 15 (Circle)\n",
      "Info    : [ 50%] Meshing curve 16 (Circle)\n",
      "Info    : [ 50%] Meshing curve 17 (Circle)\n",
      "Info    : [ 50%] Meshing curve 18 (Circle)\n",
      "Info    : [ 60%] Meshing curve 19 (Circle)\n",
      "Info    : [ 60%] Meshing curve 20 (Circle)\n",
      "Info    : [ 60%] Meshing curve 21 (Circle)\n",
      "Info    : [ 60%] Meshing curve 22 (Circle)\n",
      "Info    : [ 70%] Meshing curve 23 (Circle)\n",
      "Info    : [ 70%] Meshing curve 24 (Circle)\n",
      "Info    : [ 70%] Meshing curve 25 (Circle)\n",
      "Info    : [ 80%] Meshing curve 26 (Circle)\n",
      "Info    : [ 80%] Meshing curve 27 (Circle)\n",
      "Info    : [ 80%] Meshing curve 28 (Circle)\n",
      "Info    : [ 80%] Meshing curve 29 (Circle)\n",
      "Info    : [ 90%] Meshing curve 30 (Circle)\n",
      "Info    : [ 90%] Meshing curve 31 (Circle)\n",
      "Info    : [ 90%] Meshing curve 32 (Circle)\n",
      "Info    : [100%] Meshing curve 33 (Circle)\n",
      "Info    : [100%] Meshing curve 34 (Circle)\n",
      "Info    : [100%] Meshing curve 35 (Circle)\n",
      "Info    : Done meshing 1D (Wall 0.016856s, CPU 0s)\n",
      "Info    : Meshing 2D...\n",
      "Info    : Meshing surface 1 (Plane, Frontal-Delaunay for Quads)\n",
      "Info    : Done meshing 2D (Wall 0.101521s, CPU 0.125s)\n",
      "Info    : 2833 nodes 5725 elements\n",
      "Info    : Writing 'C:\\git_pro\\ccmech_julia\\lesson_5\\porous_media.msh'...\n",
      "Info    : Done writing 'C:\\git_pro\\ccmech_julia\\lesson_5\\porous_media.msh'\n"
     ]
    }
   ],
   "cell_type": "code",
   "source": [
    "gmsh.option.setNumber(\"Mesh.MeshSizeMin\", 0.01)\n",
    "gmsh.option.setNumber(\"Mesh.MeshSizeMax\", 0.05)\n",
    "gmsh.option.setNumber(\"Mesh.Algorithm\", 8)\n",
    "gmsh.option.setNumber(\"Mesh.MeshSizeFromCurvature\", 20)\n",
    "\n",
    "gmsh.model.mesh.generate(2)\n",
    "\n",
    "msh_file = \"porous_media.msh\" |> tcf;\n",
    "\n",
    "gmsh.write(msh_file)\n",
    "\n",
    "gmsh.finalize()"
   ],
   "metadata": {},
   "execution_count": 9
  },
  {
   "cell_type": "markdown",
   "source": [
    "Теперь необходимо загрузить нашу геометрию при помощи Gridap и"
   ],
   "metadata": {}
  },
  {
   "outputs": [
    {
     "name": "stdout",
     "output_type": "stream",
     "text": [
      "Info    : Reading 'C:\\git_pro\\ccmech_julia\\lesson_5\\porous_media.msh'...\n",
      "Info    : 71 entities\n",
      "Info    : 2833 nodes\n",
      "Info    : 5725 elements\n",
      "Info    : Done reading 'C:\\git_pro\\ccmech_julia\\lesson_5\\porous_media.msh'\n"
     ]
    }
   ],
   "cell_type": "code",
   "source": [
    "using Gridap\n",
    "using GridapGmsh\n",
    "\n",
    "model = GmshDiscreteModel(msh_file);\n",
    "\n",
    "vtk_file = \"porous_model\" |> tcf;"
   ],
   "metadata": {},
   "execution_count": 10
  },
  {
   "cell_type": "markdown",
   "source": [
    "Зададим основные механические параметры для материала и определим закон для напряжений (закон Гука):"
   ],
   "metadata": {}
  },
  {
   "outputs": [
    {
     "output_type": "execute_result",
     "data": {
      "text/plain": "σ (generic function with 1 method)"
     },
     "metadata": {},
     "execution_count": 11
    }
   ],
   "cell_type": "code",
   "source": [
    "const E = 70.0e9\n",
    "const ν = 0.33\n",
    "const λ = (E*ν)/((1+ν)*(1-2*ν))\n",
    "const μ = E/(2*(1+ν))\n",
    "const ρ = 2.8e3\n",
    "σ(ε) = λ*tr(ε)*one(ε) + 2*μ*ε"
   ],
   "metadata": {},
   "execution_count": 11
  },
  {
   "cell_type": "markdown",
   "source": [
    "Задаем пространство тестовых функций. В качестве границы Дирихле укажем границу с тегом `boundary` которую мы создали в **gmsh**"
   ],
   "metadata": {}
  },
  {
   "outputs": [
    {
     "output_type": "execute_result",
     "data": {
      "text/plain": "UnconstrainedFESpace()"
     },
     "metadata": {},
     "execution_count": 12
    }
   ],
   "cell_type": "code",
   "source": [
    "degree = 2\n",
    "Ω = Triangulation(model)\n",
    "dΩ = Measure(Ω,degree)\n",
    "\n",
    "reffe = ReferenceFE(lagrangian, VectorValue{2,Float64}, 1)\n",
    "V = TestFESpace(model, reffe,\n",
    "    conformity=:H1,\n",
    "    dirichlet_tags = [boundary_name]\n",
    ")"
   ],
   "metadata": {},
   "execution_count": 12
  },
  {
   "cell_type": "markdown",
   "source": [
    "Теперь нам необходимо решить 3 краевых задач, каждой из которых соответствуют свои граничные условия."
   ],
   "metadata": {}
  },
  {
   "outputs": [
    {
     "output_type": "execute_result",
     "data": {
      "text/plain": "3-element Vector{TrialFESpace{Gridap.FESpaces.UnconstrainedFESpace{Vector{Float64}, Gridap.FESpaces.NodeToDofGlue{VectorValue{2, Int32}}}}}:\n TrialFESpace()\n TrialFESpace()\n TrialFESpace()"
     },
     "metadata": {},
     "execution_count": 13
    }
   ],
   "cell_type": "code",
   "source": [
    "g1(x) = VectorValue(x[1],  0.0)\n",
    "g2(x) = VectorValue(0.0,  x[2])\n",
    "g3(x) = VectorValue(x[2]/(2cell_size),  x[1]/(2cell_size))\n",
    "\n",
    "U1 = TrialFESpace(V, [g1])\n",
    "U2 = TrialFESpace(V, [g2])\n",
    "U3 = TrialFESpace(V, [g3])\n",
    "\n",
    "U = [U1, U2, U3]"
   ],
   "metadata": {},
   "execution_count": 13
  },
  {
   "cell_type": "markdown",
   "source": [
    "Слабая постановка для всех трех задач будет одинаковая"
   ],
   "metadata": {}
  },
  {
   "outputs": [],
   "cell_type": "code",
   "source": [
    "A(u,v) = ∫( ε(v) ⊙ (σ∘ε(u)) )*dΩ\n",
    "L(v) = 0;"
   ],
   "metadata": {},
   "execution_count": 14
  },
  {
   "cell_type": "markdown",
   "source": [
    "Теперь решаем все три задачи и сохраняем результат в файл"
   ],
   "metadata": {}
  },
  {
   "outputs": [
    {
     "output_type": "execute_result",
     "data": {
      "text/plain": "([\"C:\\\\git_pro\\\\ccmech_julia\\\\lesson_5\\\\results_new.vtu\"],)"
     },
     "metadata": {},
     "execution_count": 15
    }
   ],
   "cell_type": "code",
   "source": [
    "res_file = \"results_new\" |> tcf;\n",
    "result = []\n",
    "for i in 1:3\n",
    "    op = AffineFEOperator(A, L, U[i], V)\n",
    "\n",
    "    x0 = zeros(Float64, num_free_dofs(V))\n",
    "    uh_lin = FEFunction(U[i], x0)\n",
    "    ls = LUSolver()\n",
    "    solver = LinearFESolver(ls)\n",
    "    uh_lin ,_ = solve!(uh_lin,solver,op)\n",
    "    push!(result, uh_lin);\n",
    "\n",
    "end\n",
    "writevtk(Ω, res_file ,  cellfields=[\n",
    "    \"x_tension_displ\" => result[1],\n",
    "    \"y_tension_displ\" => result[2],\n",
    "    \"xy_shear_displ\" => result[3],\n",
    "    \"x_tension_stress\"=> σ∘ε(result[1]),\n",
    "    \"y_tension_stress\"=> σ∘ε(result[2]),\n",
    "    \"xy_shear_stress\"=> σ∘ε(result[3]),\n",
    "    ]\n",
    ")"
   ],
   "metadata": {},
   "execution_count": 15
  },
  {
   "cell_type": "markdown",
   "source": [
    "---\n",
    "\n",
    "*This notebook was generated using [Literate.jl](https://github.com/fredrikekre/Literate.jl).*"
   ],
   "metadata": {}
  }
 ],
 "nbformat_minor": 3,
 "metadata": {
  "language_info": {
   "file_extension": ".jl",
   "mimetype": "application/julia",
   "name": "julia",
   "version": "1.9.2"
  },
  "kernelspec": {
   "name": "julia-1.9",
   "display_name": "Julia 1.9.2",
   "language": "julia"
  }
 },
 "nbformat": 4
}
