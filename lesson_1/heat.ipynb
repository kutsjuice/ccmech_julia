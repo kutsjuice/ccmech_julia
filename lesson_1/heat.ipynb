{
 "cells": [
  {
   "cell_type": "code",
   "execution_count": 1,
   "metadata": {},
   "outputs": [],
   "source": [
    "tcf(filename::String) = (@__DIR__) * \"\\\\\" * filename;"
   ]
  },
  {
   "cell_type": "markdown",
   "metadata": {},
   "source": [
    "# Задача теплопроводности\n",
    "\n",
    "Во многих инженерных задачах важным аспектом явлется знание распределения температуры в теле. \n",
    "Всем известно, что при нагреве, тела расширяются, что приводит к возникновению тепловых напряжений. Если известно количество подводимого и теряемого телом тепла, можно определенить распределение температуры в теле, а следовательно - распределение напряжений, знание которых важно при вращающихся механизмов, таких как реактивные двигатели, паровые генераторы и даже червячные редукторы.\n",
    "\n",
    "## Уравнение переноса тепла\n",
    "\n",
    "Стаицонарное уравнение теплопроводности в сплошной среде имеет вид \n",
    "\n",
    "$$\n",
    "% \\label{eq_eigen} \\tag{1}\n",
    "- \\nabla \\cdot \\mathbf{k} \\nabla T(\\mathbf{x}) + q(\\mathbf{x}) = 0, \\text{ для } \\mathbf{x}\\in \\Omega\n",
    "$$\n",
    "\n",
    "где $\\mathbf{x} = \\{x \\hspace{0.1cm} y \\hspace{0.1cm} z \\}^T$ - вектор пространственных координат, $ \\Omega $ - область решения задачи, определяема геометрией рассматриваемого тела,  $\\mathbf{k} = \\{k_{xx} \\hspace{0.1cm} k_{yy} \\hspace{0.1cm} k_{zz} \\}^T$ - вектор коэффициентов теплопроводности в направлениях $ x $, $ y $ и $ z $, размерности $кВт / K$, и $q$ - внутренний источник тепла, размерности $кВт / м^3$. В уравнении неизвестным и является скалярное поле температур $T(\\mathbf{x})$ и именно его неободимо определить при решении задачи.\n",
    "\n",
    "Кроме определяющего уравнения обычно присутствуют дополнительные ограничения, задающие температуру или тепловой поток на поверхности тела, являющиеся граничными условиями для нашей задачи. Первый тип ограничений называют граничными условиями I-го рода, или условиям Дерихле\n",
    "\n",
    "$$\n",
    "    T(\\mathbf{x}) = T_{D}(\\mathbf{x}),\\text{ для } \\mathbf{x} \\in {\\partial {\\Omega}_D}\n",
    "$$\n",
    "\n",
    "где $ \\partial {\\Omega}_D $ - граница области, на которой заданы условия Дерихле, а $T_D$ - температура на данной границе.\n",
    "\n",
    "Второй тип ограничений называют граничными условиями II-го рода, или условиями Неймана\n",
    "\n",
    "$$\n",
    "    \\nabla T(\\mathbf{x}) \\cdot \\mathbf{n}(\\mathbf{x}) = Q(\\mathbf{x}), \\text{ для } \\mathbf{x}\\in{\\partial {\\Omega}_N}\n",
    "$$\n",
    "где $ \\partial {\\Omega}_N $ - граница области, на которой заданы условия Неймана, $\\mathbf{n}(\\mathbf{x})$ - вектор нормали к границе, а $Q(\\mathbf{x})$ - тепловой поток на данной границе."
   ]
  },
  {
   "cell_type": "markdown",
   "metadata": {},
   "source": [
    "## Формулировка задачи\n",
    "\n",
    "В данной задаче необходимо рассчитать температурное поле радиатора охлаждения, подключенного к \n",
    "\n",
    "Данная задача будет рассмотрена в двухмерной постановке."
   ]
  },
  {
   "cell_type": "markdown",
   "metadata": {},
   "source": [
    "## Создание геометрии\n",
    "\n",
    "\n",
    "Изначально родным для Gridap форматом геометрии является формат .json, имеющий определенную стркутуру. Однако более удобно использовать существующую библотеку gmsh для построения геометрии, имеющую большое количество возможностей и являющейся, по мнению авторов, наиболее мощной open-source библиотекой для построения расчетных неструктурированых сеток.\n"
   ]
  },
  {
   "cell_type": "code",
   "execution_count": 16,
   "metadata": {},
   "outputs": [
    {
     "name": "stdout",
     "output_type": "stream",
     "text": [
      "c:\\git_pro\\ccmech_julia\\lesson_1\\geo.msh"
     ]
    }
   ],
   "source": [
    "using Gmsh\n",
    "\n",
    "\n",
    "gmsh.initialize()\n",
    "\n",
    "gmsh.option.setNumber(\"General.Terminal\", 0);\n",
    "ms_max = 1;\n",
    "ms_min = 0.1;\n",
    "MSFC = 3;\n",
    "EL_ORDER = 1\n",
    "gmsh.option.setNumber(\"Mesh.MeshSizeFromCurvature\", MSFC);\n",
    "# gmsh.option.setNumber(\"Mesh.MeshSizeMax\", diam/2);\n",
    "# gmsh.option.setNumber(\"Mesh.MeshSizeMin\", diam/5);\n",
    "gmsh.option.setNumber(\"Mesh.MaxNumThreads3D\", 8);\n",
    "gmsh.option.setNumber(\"Mesh.ElementOrder\", EL_ORDER);\n",
    "gmsh.option.setNumber(\"Mesh.Algorithm3D\", 9);\n",
    "gmsh.option.setNumber(\"Mesh.SubdivisionAlgorithm\", 2);\n",
    "\n",
    "gmsh.model.add(\"t4\")\n",
    "\n",
    "height = 5;\n",
    "width = 10;\n",
    "rib_th = 1;\n",
    "rib_num = 3;\n",
    "\n",
    "sp = (width - rib_num * rib_th) / (rib_num - 1);\n",
    "\n",
    "Lc1 = 0.3;\n",
    "\n",
    "factory = gmsh.model.geo;\n",
    "factory.addPoint(-width/2, 0,       0, Lc1, 1);\n",
    "factory.addPoint( width/2, 0,       0, Lc1, 2);\n",
    "factory.addPoint( width/2, height,  0, Lc1, 3);\n",
    "factory.addPoint(-width/2, height,  0, Lc1, 4);\n",
    "\n",
    "x1 = -width/2 + rib_th;\n",
    "x2 = -width/2 + rib_th + sp;\n",
    "\n",
    "factory.addPoint(x1, height, 0, Lc1, 5);\n",
    "factory.addPoint(x1, rib_th, 0, Lc1, 6);\n",
    "factory.addPoint(x2, rib_th, 0, Lc1, 7);\n",
    "factory.addPoint(x2, height, 0, Lc1, 8);\n",
    "\n",
    "x1 = -width/2 + 2rib_th + sp;\n",
    "x2 = -width/2 + 2rib_th + 2sp;\n",
    "\n",
    "factory.addPoint(x1, height, 0, Lc1, 9);\n",
    "factory.addPoint(x1, rib_th, 0, Lc1, 10);\n",
    "factory.addPoint(x2, rib_th, 0, Lc1, 11);\n",
    "factory.addPoint(x2, height, 0, Lc1, 12);\n",
    "\n",
    "\n",
    "# for i in 1:(rib_num-1)\n",
    "#     p1x = -width/2 + rib_th + (sp + rib_th) * (i - 1);\n",
    "#     p2x = p1x;\n",
    "#     p3x = p1x + sp;\n",
    "#     p4x = p3x;\n",
    "\n",
    "#     factory.addPoint(p1x, height)\n",
    "# end\n",
    "\n",
    "factory.addLine(1, 2, 1);\n",
    "factory.addLine(2, 3, 2);\n",
    "factory.addLine(1, 4, 3);\n",
    "\n",
    "for i in 4:11\n",
    "    factory.addLine(i, i+1, i);\n",
    "end\n",
    "factory.addLine(12, 3, 12);\n",
    "\n",
    "\n",
    "factory.addPhysicalGroup(1, [2, 3, 4, 5, 6, 7, 8, 9, 10, 11, 12], -1, \"free\");\n",
    "factory.addPhysicalGroup(1, [1], -1, \"fixed\");\n",
    "\n",
    "factory.synchronize();\n",
    "\n",
    "factory.addCurveLoop([-2, -1, 3, 4, 5, 6, 7, 8, 9, 10, 11, 12], 17);\n",
    "\n",
    "\n",
    "\n",
    "factory.addPlaneSurface([17], 18)\n",
    "\n",
    "\n",
    "factory.synchronize()\n",
    "\n",
    "factory.addPhysicalGroup(2, [18], -1, \"coller\");\n",
    "\n",
    "factory.synchronize()\n",
    "\n",
    "gmsh.model.mesh.generate(2)\n",
    "\n",
    "\n",
    "name = \"geo.msh\" |> tcf;\n",
    "print(name)\n",
    "gmsh.write(name)\n",
    "\n",
    "gmsh.finalize()\n"
   ]
  },
  {
   "cell_type": "markdown",
   "metadata": {},
   "source": [
    "Полученная геометрия имеет две повехности - нижняя грань, по которой предполагается контакт с по верхностью, помечена меткой `\"fixed\"`, остальная часть границы помечена меткой `\"free\"`"
   ]
  },
  {
   "cell_type": "markdown",
   "metadata": {},
   "source": [
    "# Загрузка геометрии в Gridap\n",
    "\n",
    "Для загрузки .msh геометрии используется библиотека GridapGmsh, которая конвертирует в формат Gridap"
   ]
  },
  {
   "cell_type": "code",
   "execution_count": 17,
   "metadata": {},
   "outputs": [
    {
     "name": "stdout",
     "output_type": "stream",
     "text": [
      "Info    : Reading 'c:\\git_pro\\ccmech_julia\\lesson_1\\geo.msh'...\n",
      "Info    : 25 entities\n",
      "Info    : 400 nodes\n",
      "Info    : 798 elements\n",
      "Info    : Done reading 'c:\\git_pro\\ccmech_julia\\lesson_1\\geo.msh'\n"
     ]
    }
   ],
   "source": [
    "using Gridap\n",
    "using GridapGmsh\n",
    "\n",
    "model = GmshDiscreteModel(name);"
   ]
  },
  {
   "cell_type": "markdown",
   "metadata": {},
   "source": [
    "Для просмотра геометрии удобнее всего использовать Paraview:"
   ]
  },
  {
   "cell_type": "code",
   "execution_count": 18,
   "metadata": {},
   "outputs": [],
   "source": [
    "vtk_file = \"model\" |> tcf;\n",
    "writevtk(model, vtk_file);"
   ]
  },
  {
   "cell_type": "markdown",
   "metadata": {},
   "source": [
    "В результате появится 3 файла - `\"model_0.vtu\"`, `\"model_1.vtu\"` и `\"model_2.vtu\"`, содержащие вершины, ребра и грани. \n",
    "Можно легко проверить границы которые имеются в импортированном файле.\n",
    "\n",
    "![image](free.png)\n",
    "![image](fixed.png)"
   ]
  },
  {
   "cell_type": "markdown",
   "metadata": {},
   "source": [
    "# Конечно элементное пространство\n",
    "\n",
    "Как только мы получим дискретизацию рассчетной области, следующим шагом будет создание дискретной аппроксимации пространств конечных элементов $V_0$ и $U_g$ (т.е. КЭ-пространств тестовых и пробных функций) задачи. Для этого, во-первых, мы собираемся построить дискретизацию $V_0$ в качестве стандартного соответствующего лагранжева КЭ-пространства (с нулевыми граничными условиями), связанного с дискретизацией вычислительной области. Аппроксимация пространства FE V_0 строится следующим образом:"
   ]
  },
  {
   "cell_type": "code",
   "execution_count": 19,
   "metadata": {},
   "outputs": [],
   "source": [
    "reffe = ReferenceFE(lagrangian,Float64,EL_ORDER)\n",
    "V0 = TestFESpace(model,reffe;conformity=:H1,dirichlet_tags=\"fixed\");"
   ]
  },
  {
   "cell_type": "markdown",
   "metadata": {},
   "source": [
    "Здесь мы использовали конструктор `TestFESpace`, который создает конкретное КЭ-пространство (для использования в качестве тестового пространства) из набора параметров, описанных как позиционные и именнованные аргументы. Первый позиционный аргумент - это модель, поверх которой мы хотим построить пространство. Второй позиционный аргумент содержит информацию о типе интерполяции FE (в данном случае эталонный FE). С помощью ReferenceFE(lagrangian,Float64,EL_ORDER) мы выбираем скалярно-значный лагранжианский эталонный FE порядка 1, где значение функций формы будет представлено 64-разрядными числами с плавающей запятой. С помощью аргумента соответствия ключевому слову мы определяем регулярность интерполяции на границах ячеек сетки. Здесь мы используем соответствие =:H1, что означает, что результирующее интерполяционное пространство является подмножеством $H^1 (\\Omega)$ (т.е. непрерывных функций формы). С другой стороны, мы передаем идентификаторы границы Дирихле через аргумент `dirichlet_tags`. В этом случае мы помечаем как Dirichlet все объекты дискретной модели, идентифицированные тегом `\"fixed\"`. Поскольку это тестовое пространство, соответствующие функции формы обращаются в нуль на границе Дирихле.\n",
    "\n",
    "Как только пространство $V_0$ дискретизировано, мы приступаем к аппроксимации пробного пространства $U_g$."
   ]
  },
  {
   "cell_type": "code",
   "execution_count": 20,
   "metadata": {},
   "outputs": [
    {
     "data": {
      "text/plain": [
       "TrialFESpace()"
      ]
     },
     "metadata": {},
     "output_type": "display_data"
    }
   ],
   "source": [
    "g(x) = 60.0\n",
    "Ug = TrialFESpace(V0,g)"
   ]
  },
  {
   "cell_type": "markdown",
   "metadata": {},
   "source": [
    "С этой целью мы использовали конструкторы `TrialFESpace`. Обратите внимание, что при построении пробного пространства мы передали функцию, представляющую значение граничного условия Дирихле."
   ]
  },
  {
   "cell_type": "markdown",
   "metadata": {},
   "source": [
    "## Численное интегрирование\n",
    "\n"
   ]
  },
  {
   "cell_type": "code",
   "execution_count": 21,
   "metadata": {},
   "outputs": [
    {
     "data": {
      "text/plain": [
       "GenericMeasure()"
      ]
     },
     "metadata": {},
     "output_type": "display_data"
    }
   ],
   "source": [
    "degree = EL_ORDER*2\n",
    "Ω = Triangulation(model)\n",
    "dΩ = Measure(Ω,degree)"
   ]
  },
  {
   "cell_type": "code",
   "execution_count": 22,
   "metadata": {},
   "outputs": [
    {
     "data": {
      "text/plain": [
       "GenericMeasure()"
      ]
     },
     "metadata": {},
     "output_type": "display_data"
    }
   ],
   "source": [
    "neumanntags = [\"free\"]\n",
    "Γ = BoundaryTriangulation(model,tags=neumanntags)\n",
    "dΓ = Measure(Γ,degree)"
   ]
  },
  {
   "cell_type": "markdown",
   "metadata": {},
   "source": [
    "## Численная процедура\n",
    "\n",
    "Описание функционала, билинейной и линейной форм"
   ]
  },
  {
   "cell_type": "code",
   "execution_count": 23,
   "metadata": {},
   "outputs": [
    {
     "data": {
      "text/plain": [
       "b (generic function with 1 method)"
      ]
     },
     "metadata": {},
     "output_type": "display_data"
    }
   ],
   "source": [
    "T_a = 22;\n",
    "h\n",
    "\n",
    "\n",
    "h(x) = 0.0\n",
    "a(u,v) = ∫( ∇(v)⋅∇(u) )*dΩ + ∫(0.1*u*v)*dΓ\n",
    "b(v) = ∫( v*h )*dΓ"
   ]
  },
  {
   "cell_type": "code",
   "execution_count": 24,
   "metadata": {},
   "outputs": [
    {
     "data": {
      "text/plain": [
       "AffineFEOperator()"
      ]
     },
     "metadata": {},
     "output_type": "display_data"
    }
   ],
   "source": [
    "op = AffineFEOperator(a,b,Ug,V0)"
   ]
  },
  {
   "cell_type": "code",
   "execution_count": 25,
   "metadata": {},
   "outputs": [
    {
     "data": {
      "text/plain": [
       "LinearFESolver()"
      ]
     },
     "metadata": {},
     "output_type": "display_data"
    }
   ],
   "source": [
    "ls = LUSolver()\n",
    "solver = LinearFESolver(ls)"
   ]
  },
  {
   "cell_type": "code",
   "execution_count": 26,
   "metadata": {},
   "outputs": [
    {
     "data": {
      "text/plain": [
       "SingleFieldFEFunction():\n",
       " num_cells: 638\n",
       " DomainStyle: ReferenceDomain()\n",
       " Triangulation: BodyFittedTriangulation()\n",
       " Triangulation id: 18128208927377634805"
      ]
     },
     "metadata": {},
     "output_type": "display_data"
    }
   ],
   "source": [
    "uh = solve(solver,op)"
   ]
  },
  {
   "cell_type": "code",
   "execution_count": 27,
   "metadata": {},
   "outputs": [
    {
     "data": {
      "text/plain": [
       "([\"c:\\\\git_pro\\\\ccmech_julia\\\\lesson_1\\\\results.vtu\"],)"
      ]
     },
     "metadata": {},
     "output_type": "display_data"
    }
   ],
   "source": [
    "results_file = \"results\" |> tcf;\n",
    "writevtk(Ω,results_file,cellfields=[\"uh\"=>uh])"
   ]
  }
 ],
 "metadata": {
  "kernelspec": {
   "display_name": "Julia 1.9.2",
   "language": "julia",
   "name": "julia-1.9"
  },
  "language_info": {
   "file_extension": ".jl",
   "mimetype": "application/julia",
   "name": "julia",
   "version": "1.9.2"
  }
 },
 "nbformat": 4,
 "nbformat_minor": 2
}
