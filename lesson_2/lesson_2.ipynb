{
 "cells": [
  {
   "cell_type": "code",
   "execution_count": 1,
   "metadata": {},
   "outputs": [],
   "source": [
    "tcf(filename::String) = (@__DIR__) * \"\\\\\" * filename;"
   ]
  },
  {
   "cell_type": "markdown",
   "metadata": {},
   "source": [
    "# Моделирование растяжения плоского образца\n",
    "\n",
    "Основные зависимости определяются законом Гука.\n",
    "В общем виде для изотрпного патериала закон Гука которая выглядит следующим образом\n",
    "\n",
    "$$\n",
    "    \\mathbf{\\sigma} = \\lambda tr(\\varepsilon) \\cdot \\mathbf{I} + 2\\mu\\mathbf{\\varepsilon}\n",
    "$$\n",
    "где $\\lambda = \\frac{E \\nu} {(1+\\nu)(1-2\\nu)}$ и $\\mu = \\frac{E}{2(1+\\nu)}$ - коэффициенты Ляме, $E$ и $\\mu$ модуль Юнга и коэффициент Пуассона для рассмариваемого матераила.\n",
    "\n",
    "\n",
    "Из курса сопротивления материалов вам должна быть известна немного другая запись этого же закона\n",
    "$$\n",
    "    \\mathbf{\\sigma} = {}^{4}\\mathbf{E} \\cdot \\mathbf{\\varepsilon}\n",
    "$$\n",
    "\n",
    "где $\\mathbf{\\sigma}$ - тензор напряжений, $\\mathbf{\\varepsilon}$ - тензор деформаций, ${}^{4}\\mathbf{E}$ - тензор упругости.\n",
    "Или же, используя нотацию Фойгта, согласно которой тензора напряжений и деформаций представляются в виде векторов содержащих 6 компонент\n",
    "$$\n",
    "    \\mathbf{\\sigma_v} = \\left\\{\n",
    "        \\begin{matrix}\n",
    "            \\sigma_{x}\\\\\n",
    "            \\sigma_{y}\\\\\n",
    "            \\sigma_{z}\\\\\n",
    "            \\tau_{xy}\\\\\n",
    "            \\tau_{yz}\\\\\n",
    "            \\tau_{zx}\\\\\n",
    "        \\end{matrix}\n",
    "    \\right\\}\n",
    "    \\hspace{0.7cm}\n",
    "    \\&\n",
    "    \\hspace{0.7cm}\n",
    "    \\mathbf{\\varepsilon_v} = \\left\\{\n",
    "        \\begin{matrix}\n",
    "            \\varepsilon_{x}\\\\\n",
    "            \\varepsilon_{y}\\\\\n",
    "            \\varepsilon_{z}\\\\\n",
    "            \\gamma_{xy}\\\\\n",
    "            \\gamma_{yz}\\\\\n",
    "            \\gamma_{zx}\\\\\n",
    "        \\end{matrix}\n",
    "    \\right\\}\n",
    "\n",
    "    \n",
    "$$\n",
    "\n",
    "\n",
    "```{warning}\n",
    "Корректную запись векторов необходимо уточнить. Там есть 2 перед каким-то величинами, и порядок, кажется, другой. Подсмотреть можно в моей последней статье\n",
    "```\n",
    "Тогда тензор упругости примет вид\n",
    "$$\n",
    "    \\mathbf{E} = \\frac{E(1-\\nu)}{(1+\\nu)(1-2\\nu)}\\left[\n",
    "        \\begin{matrix}\n",
    "        1 & \\frac{\\nu}{1-\\nu} & \\frac{\\nu}{1-\\nu} & 0 & 0 & 0 \\\\\n",
    "        \\frac{\\nu}{1-\\nu} & 1 & \\frac{\\nu}{1-\\nu} & 0 & 0 & 0 \\\\\n",
    "        \\frac{\\nu}{1-\\nu} & \\frac{\\nu}{1-\\nu} & 1 & 0 & 0 & 0 \\\\\n",
    "        0 & 0 & 0 & \\frac{1-2\\nu}{2(1-\\nu)} & 0 & 0 \\\\\n",
    "        0 & 0 & 0 & 0 & \\frac{1-2\\nu}{2(1-\\nu)} & 0 \\\\\n",
    "        0 & 0 & 0 & 0 & 0 & \\frac{1-2\\nu}{2(1-\\nu)} \\\\\n",
    "\n",
    "        \\end{matrix}\n",
    "    \\right]\n",
    "$$"
   ]
  },
  {
   "cell_type": "markdown",
   "metadata": {},
   "source": [
    "## Создание геометрии\n",
    "\n",
    "![image](less2.jpg)"
   ]
  },
  {
   "cell_type": "code",
   "execution_count": 2,
   "metadata": {},
   "outputs": [],
   "source": [
    "# ГОСТ 1497-84, образец плоский, тип I, образец номер №6\n",
    "mm = 1e-3;\n",
    "B = 40mm;\n",
    "l0 = 140mm;\n",
    "a0 = 20mm;\n",
    "b0 = 30mm;\n",
    "l = l0+2*sqrt(a0*b0);\n",
    "h1 = 80mm;\n",
    "r = (B-b0)/2;"
   ]
  },
  {
   "cell_type": "code",
   "execution_count": 3,
   "metadata": {},
   "outputs": [
    {
     "name": "stdout",
     "output_type": "stream",
     "text": [
      "c:\\Users\\kutsj\\OneDrive\\Education\\Programming\\Julia\\CCM_tut\\lesson_2\\test_sample.msh"
     ]
    }
   ],
   "source": [
    "using Gmsh\n",
    "using GridapGmsh\n",
    "using Gridap\n",
    "\n",
    "gmsh.initialize()\n",
    "\n",
    "gmsh.option.setNumber(\"General.Terminal\", 0);\n",
    "ms_max = 1;\n",
    "ms_min = 0.1;\n",
    "MSFC = 3;\n",
    "EL_ORDER = 1\n",
    "gmsh.option.setNumber(\"Mesh.MeshSizeFromCurvature\", MSFC);\n",
    "# gmsh.option.setNumber(\"Mesh.MeshSizeMax\", diam/2);\n",
    "# gmsh.option.setNumber(\"Mesh.MeshSizeMin\", diam/5);\n",
    "gmsh.option.setNumber(\"Mesh.MaxNumThreads3D\", 8);\n",
    "gmsh.option.setNumber(\"Mesh.ElementOrder\", EL_ORDER);\n",
    "# gmsh.option.setNumber(\"Mesh.Algorithm3D\", 9);\n",
    "# gmsh.option.setNumber(\"Mesh.SubdivisionAlgorithm\", 2);\n",
    "\n",
    "gmsh.model.add(\"L_2_1\")\n",
    "\n",
    "Lc1 = 1mm;\n",
    "\n",
    "factory = gmsh.model.geo;\n",
    "factory.addPoint(0,             0,      0, Lc1, 1);#left-bottom corner\n",
    "factory.addPoint(h1,            0,      0, Lc1, 2); #begin of first arc\n",
    "factory.addPoint(h1+r,          0,      0, Lc1, 3); #center of first arc\n",
    "factory.addPoint(h1+r,          r,      0, Lc1, 4); #end of first arc\n",
    "factory.addPoint(h1+r+l,        r,      0, Lc1, 5); #begin of second arc\n",
    "factory.addPoint(h1+r+l,        0,      0, Lc1, 6); #center of second arc\n",
    "factory.addPoint(h1+r+l+r,      0,      0, Lc1, 7); #begin of second arc\n",
    "factory.addPoint(h1+r+l+r+h1,   0,      0, Lc1, 8); #right-buttom corner\n",
    "factory.addPoint(h1+r+l+r+h1,   B,      0, Lc1, 9); #right-top corner\n",
    "factory.addPoint(h1+r+l+r,      B,      0, Lc1, 10); #begin of third arc\n",
    "factory.addPoint(h1+r+l,        B,      0, Lc1, 11); #center of third arc\n",
    "factory.addPoint(h1+r+l,        B-r,    0, Lc1, 12); #end of third arc\n",
    "factory.addPoint(h1+r,          B-r,    0, Lc1, 13); #begin of fourth arc\n",
    "factory.addPoint(h1+r,          B,      0, Lc1, 14); #center of fourth arc\n",
    "factory.addPoint(h1,            B,      0, Lc1, 15); #end of fourth arc\n",
    "factory.addPoint(0,             B,      0, Lc1, 16); #end of fourth arc\n",
    "\n",
    "\n",
    "factory.addLine(1, 2, 1);\n",
    "factory.addCircleArc(2, 3, 4, 2);\n",
    "\n",
    "factory.addLine(4, 5, 3);\n",
    "factory.addCircleArc(5, 6, 7, 4);\n",
    "\n",
    "factory.addLine(7, 8, 5);\n",
    "factory.addLine(8, 9, 6);\n",
    "factory.addLine(9, 10, 7);\n",
    "factory.addCircleArc(10, 11, 12, 8);\n",
    "\n",
    "factory.addLine(12, 13, 9);\n",
    "factory.addCircleArc(13, 14, 15, 10);\n",
    "factory.addLine(15, 16, 11);\n",
    "factory.addLine(16, 1, 12);\n",
    "\n",
    "factory.addPhysicalGroup(1, [12], -1,\"left\");\n",
    "factory.addPhysicalGroup(1, [6], -1, \"right\");\n",
    "factory.addPhysicalGroup(1, [1, 2, 3, 4, 5, 7, 8, 9, 10, 11], -1, \"free\");\n",
    "\n",
    "factory.synchronize();\n",
    "\n",
    "factory.addCurveLoop(collect(1:12), 13);\n",
    "\n",
    "\n",
    "\n",
    "factory.addPlaneSurface([13], 6)\n",
    "\n",
    "\n",
    "factory.synchronize()\n",
    "\n",
    "factory.addPhysicalGroup(2, [6], -1, \"test_sample\");\n",
    "\n",
    "factory.synchronize()\n",
    "\n",
    "gmsh.model.mesh.generate(2)\n",
    "\n",
    "\n",
    "name = \"test_sample.msh\" |> tcf;\n",
    "print(name)\n",
    "gmsh.write(name)\n",
    "\n",
    "# gmsh.fltk.run()\n",
    "\n",
    "gmsh.finalize()\n"
   ]
  },
  {
   "cell_type": "code",
   "execution_count": 4,
   "metadata": {},
   "outputs": [
    {
     "name": "stdout",
     "output_type": "stream",
     "text": [
      "Info    : Reading 'c:\\Users\\kutsj\\OneDrive\\Education\\Programming\\Julia\\CCM_tut\\lesson_2\\test_sample.msh'...\n",
      "Info    : 29 entities\n",
      "Info    : 15091 nodes\n",
      "Info    : 30180 elements\n",
      "Info    : Done reading 'c:\\Users\\kutsj\\OneDrive\\Education\\Programming\\Julia\\CCM_tut\\lesson_2\\test_sample.msh'\n"
     ]
    }
   ],
   "source": [
    "\n",
    "model = GmshDiscreteModel(name);\n",
    "\n",
    "vtk_file = \"model_speciment\" |> tcf;\n",
    "writevtk(model, vtk_file);"
   ]
  },
  {
   "cell_type": "code",
   "execution_count": 5,
   "metadata": {},
   "outputs": [
    {
     "data": {
      "text/plain": [
       "σ (generic function with 1 method)"
      ]
     },
     "metadata": {},
     "output_type": "display_data"
    }
   ],
   "source": [
    "const E = 2.1e11\n",
    "const ν = 0.3\n",
    "\n",
    "const λ = E*ν/(1+ν)/(1-2*ν)\n",
    "const μ = E/2/(1+ν)\n",
    "\n",
    "\n",
    "\n",
    "\n",
    "# function σ(eps)\n",
    "#     # λ = E*ν/(1+ν)/(1-2*ν)\n",
    "#     # μ = E/2/(1+ν)\n",
    "#     # return lambda_ * ufl.nabla_div(u) * ufl.Identity(len(u)) + 2 * mu * epsilon(u)\n",
    "#     return λ*tr(eps)*I(2) + 2*μ*eps\n",
    "# end\n",
    "\n",
    "σ(e) = λ*tr(e)*one(e) + 2*μ*e\n",
    "# Model\n",
    "\n"
   ]
  },
  {
   "cell_type": "code",
   "execution_count": 14,
   "metadata": {},
   "outputs": [
    {
     "name": "stdout",
     "output_type": "stream",
     "text": [
      "Info    : Reading 'c:\\Users\\kutsj\\OneDrive\\Education\\Programming\\Julia\\CCM_tut\\lesson_2\\test_sample.msh'...\n",
      "Info    : 29 entities\n",
      "Info    : 15091 nodes\n",
      "Info    : 30180 elements\n",
      "Info    : Done reading 'c:\\Users\\kutsj\\OneDrive\\Education\\Programming\\Julia\\CCM_tut\\lesson_2\\test_sample.msh'\n"
     ]
    },
    {
     "data": {
      "text/plain": [
       "TrialFESpace()"
      ]
     },
     "metadata": {},
     "output_type": "display_data"
    }
   ],
   "source": [
    "\n",
    "model = GmshDiscreteModel(name);\n",
    "\n",
    "degree = 2\n",
    "Ω = Triangulation(model)\n",
    "dΩ = Measure(Ω,degree)\n",
    "\n",
    "reffe = ReferenceFE(lagrangian,VectorValue{2,Float64},1)\n",
    "V = TestFESpace(model,reffe,conformity=:H1,dirichlet_tags = [\"left\", \"right\"])\n",
    "\n",
    "g0 = VectorValue(0.0,  0.0)\n",
    "g1 = VectorValue(1.0mm, 0.0)\n",
    "\n",
    "U = TrialFESpace(V, [g0,g1])\n"
   ]
  },
  {
   "cell_type": "code",
   "execution_count": 15,
   "metadata": {},
   "outputs": [
    {
     "data": {
      "text/plain": [
       "(SingleFieldFEFunction(), BackslashNumericalSetup())"
      ]
     },
     "metadata": {},
     "output_type": "display_data"
    }
   ],
   "source": [
    "# weak form \n",
    "\n",
    "# f = VectorValue(0.0, - gravity * ρ)\n",
    "A(u,v) = ∫( ε(v) ⊙ (σ∘ε(u)) )*dΩ\n",
    "L(v) = 0; #∫(dot(f, v))*dΩ\n",
    "\n",
    "op = AffineFEOperator(A, L, U,V)\n",
    "\n",
    "x0 = zeros(Float64, num_free_dofs(V))\n",
    "uh_lin = FEFunction(U,x0)\n",
    "ls = BackslashSolver()\n",
    "solver = LinearFESolver(ls)\n",
    "\n",
    "uh_lin, _ = solve!(uh_lin,solver,op)"
   ]
  },
  {
   "cell_type": "code",
   "execution_count": 16,
   "metadata": {},
   "outputs": [
    {
     "data": {
      "text/plain": [
       "([\"c:\\\\Users\\\\kutsj\\\\OneDrive\\\\Education\\\\Programming\\\\Julia\\\\CCM_tut\\\\lesson_2\\\\results_new.vtu\"],)"
      ]
     },
     "metadata": {},
     "output_type": "display_data"
    }
   ],
   "source": [
    "res_file = \"results_new\" |> tcf;\n",
    "\n",
    "writevtk(Ω, res_file ,  cellfields=[\"uh\"=>uh_lin,\"sigma\"=>σ∘ε(uh_lin)])"
   ]
  },
  {
   "cell_type": "code",
   "execution_count": null,
   "metadata": {},
   "outputs": [],
   "source": []
  }
 ],
 "metadata": {
  "kernelspec": {
   "display_name": "Julia 1.9.2",
   "language": "julia",
   "name": "julia-1.9"
  },
  "language_info": {
   "file_extension": ".jl",
   "mimetype": "application/julia",
   "name": "julia",
   "version": "1.9.2"
  }
 },
 "nbformat": 4,
 "nbformat_minor": 2
}
