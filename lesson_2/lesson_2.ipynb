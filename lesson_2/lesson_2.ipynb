{
 "cells": [
  {
   "cell_type": "code",
   "execution_count": null,
   "metadata": {},
   "outputs": [],
   "source": [
    "tcf(filename::String) = (@__DIR__) * \"\\\\\" * filename;"
   ]
  },
  {
   "cell_type": "code",
   "execution_count": null,
   "metadata": {},
   "outputs": [],
   "source": [
    "# import Pkg;\n",
    "# Pkg.activate(\"E:/gitcl/Lec2/ccmech_julia\")"
   ]
  },
  {
   "cell_type": "code",
   "execution_count": null,
   "metadata": {},
   "outputs": [],
   "source": [
    "# Pkg.instantiate()"
   ]
  },
  {
   "cell_type": "markdown",
   "metadata": {},
   "source": [
    "# Моделирование растяжения плоского образца\n",
    "\n",
    "$\\hspace{0.25cm}$ Все известных нам в природе материалы элементов конструкций деформируются под действием приложенных к ним сил. В расчетах материалы отличаются на упругие и пластичные.\n",
    "Процесс деформирования в каждом элементе, приложенные силы, производят некоторую работу. Если материал упругий, то эта работа запасается в виде потенциальной энергии, которая освобождается по мере того, как уменьшаются деформирующие силы. Если материал пластичный, то работа, произведенная приложенными к нему внешними силами, пойдет на изменение его физического состояния или вызовет нагревание. Чем больше жесткость материала, тем меньше при данной системе приложенных сил запасенная работа.\n",
    "\n",
    "$\\hspace{0.25cm}$ В пределах малых деформаций существует линейная зависимость между физическими свойствами материала и напряжениями и деформациями. Эта зависимость носит название обобщенного закона Гука:\n",
    "$$\n",
    "\\begin{cases}\n",
    "   \\varepsilon_x=\\frac{1}{E}[\\mathbf{\\sigma}_x-\\nu (\\mathbf{\\sigma}_y+\\mathbf{\\sigma}_z)]; \\\\\n",
    "   \\varepsilon_y=\\frac{1}{E}[\\mathbf{\\sigma}_y-\\nu (\\mathbf{\\sigma}_x+\\mathbf{\\sigma}_z)]; \\\\\n",
    "   \\varepsilon_z=\\frac{1}{E}[\\mathbf{\\sigma}_z-\\nu (\\mathbf{\\sigma}_x+\\mathbf{\\sigma}_y)]; \\\\\n",
    "   \\gamma_{xy}=\\frac{\\tau_{xy}}{G}; \\\\\n",
    "   \\gamma_{yz}=\\frac{\\tau_{yz}}{G}; \\\\\n",
    "   \\gamma_{zx}=\\frac{\\tau_{zx}}{G};\n",
    "   \\end{cases}\n",
    "$$\n",
    "\n",
    "\n",
    "где $\\varepsilon$ - линейная деформация вдоль оси, [б.р.]; $\\mathbf{\\sigma}$ - нормальное напряжение, [$\\frac{Н}{м^2}$ = Па]; $E$ - модуль Юнга, [Па];  $\\nu$ - коэффициент Пуассона, [б.р.]; $\\tau$ - касательное напряжение, [$\\frac{Н}{м^2}$ = Па]; $\\gamma_{xy}$ - угловая деформация, [б.р.]; $G$ - модуль сдвига, $G=\\frac{E}{2(1+\\nu)}$ [Па].\n",
    "\n",
    "$\\hspace{0.25cm}$ Коэффициент Пуассона показывает во сколько раз изменяется поперечное сечение деформированного тела при его растяжении или сжатии (величина отношения относительного поперечного сжатия к относительному продольному растяжению) и зависит от природы материала. Модуль Юнга (модуль упругости) - коэффициент, характеризующий сопротивление материала растяжению сжатию при упругой деформации. Два этих коэффициента полностью характеризуют упругие свойства изотропного материала."
   ]
  },
  {
   "cell_type": "markdown",
   "metadata": {},
   "source": [
    "Также закон гука можно записать в обратной форме:\n",
    "$$\n",
    "\\begin{cases}\n",
    "   \\mathbf{\\sigma}_x=\\lambda tr(\\varepsilon)+ 2\\mu\\mathbf{\\varepsilon}_x; \\\\\n",
    "   \\mathbf{\\sigma}_y=\\lambda tr(\\varepsilon)+ 2\\mu\\mathbf{\\varepsilon}_y; \\\\\n",
    "   \\mathbf{\\sigma}_z=\\lambda tr(\\varepsilon)+ 2\\mu\\mathbf{\\varepsilon}_z; \\\\\n",
    "   \\tau_{xy}=\\mu \\gamma_{xy}; \\\\\n",
    "   \\tau_{yz}=\\mu \\gamma_{yz}; \\\\\n",
    "   \\tau_{zx}=\\mu \\gamma_{zx}; \\\\\n",
    "   \\end{cases}\n",
    "$$\n",
    "где $\\lambda = \\frac{\\nu E}{(1+\\nu)(1-2\\nu)}, \\mu=\\frac{E}{2(1+\\nu)}=G$ - коэффициенты Ляме, $tr(\\varepsilon)$ - след матрицы деформаций (диагональные элементы)."
   ]
  },
  {
   "cell_type": "markdown",
   "metadata": {},
   "source": [
    "$\\hspace{0.25cm}$ Часто механические тела испытывают одновременно более одного типа нагрузки; это называется комбинированным напряжением. В наиболее общем случае, называемом трёхосным напряжением, напряжение отлично от нуля на каждом элементе поверхности. Комбинированные напряжения нельзя описать одним вектором. Поэтому даже если материал подвергается одинаковому напряжению во всем объёме тела, напряжение на любой воображаемой поверхности будет зависеть от ориентации этой поверхности. Для описания таких случаев закон Гука записывают в тензорной форме:\n",
    "$$\n",
    "    \\mathbf{\\sigma} = {}^{4}\\mathbf{E} : \\mathbf{\\varepsilon}\n",
    "$$\n",
    "\n",
    "где $\\mathbf{\\sigma}$ - тензор напряжений, $\\mathbf{\\varepsilon}$ - тензор деформаций, ${}^{4}\\mathbf{E}$ - тензор упругости.\n",
    "Или же, используя нотацию Фойгта, согласно которой тензора напряжений и деформаций представляются в виде векторов содержащих 6 компонент:\n",
    "$$\n",
    "    \\mathbf{\\sigma_v} = \\left\\{\n",
    "        \\begin{matrix}\n",
    "            \\sigma_{x}\\\\\n",
    "            \\sigma_{y}\\\\\n",
    "            \\sigma_{z}\\\\\n",
    "            \\tau_{yz}\\\\\n",
    "            \\tau_{xz}\\\\\n",
    "            \\tau_{xy}\\\\\n",
    "        \\end{matrix}\n",
    "    \\right\\}\n",
    "    \\hspace{0.7cm}\n",
    "    \\&\n",
    "    \\hspace{0.7cm}\n",
    "    \\mathbf{\\varepsilon_v} = \\left\\{\n",
    "        \\begin{matrix}\n",
    "            \\varepsilon_{x}\\\\\n",
    "            \\varepsilon_{y}\\\\\n",
    "            \\varepsilon_{z}\\\\\n",
    "            \\gamma_{yz}\\\\\n",
    "            \\gamma_{xz}\\\\\n",
    "            \\gamma_{xy}\\\\\n",
    "        \\end{matrix}\n",
    "    \\right\\}\n",
    "\n",
    "    \n",
    "$$\n",
    "\n",
    "Тогда тензор упругости примет вид\n",
    "$$\n",
    "    \\mathbf{E} = \\frac{E(1-\\nu)}{(1+\\nu)(1-2\\nu)}\\left[\n",
    "        \\begin{matrix}\n",
    "        1 & \\frac{\\nu}{1-\\nu} & \\frac{\\nu}{1-\\nu} & 0 & 0 & 0 \\\\\n",
    "        \\frac{\\nu}{1-\\nu} & 1 & \\frac{\\nu}{1-\\nu} & 0 & 0 & 0 \\\\\n",
    "        \\frac{\\nu}{1-\\nu} & \\frac{\\nu}{1-\\nu} & 1 & 0 & 0 & 0 \\\\\n",
    "        0 & 0 & 0 & \\frac{1-2\\nu}{2(1-\\nu)} & 0 & 0 \\\\\n",
    "        0 & 0 & 0 & 0 & \\frac{1-2\\nu}{2(1-\\nu)} & 0 \\\\\n",
    "        0 & 0 & 0 & 0 & 0 & \\frac{1-2\\nu}{2(1-\\nu)} \\\\\n",
    "\n",
    "        \\end{matrix}\n",
    "    \\right]\n",
    "$$\n"
   ]
  },
  {
   "cell_type": "markdown",
   "metadata": {},
   "source": [
    "## Плоское напряженное и плоское деформированное состояния\n",
    "\n",
    "$\\hspace{0.25cm}$ Приведённую выше зависимость можно упростить, если рассматриваемая область является плоской, а приложенные нагрузки или смещения действуют только в плоскости контура. В этом случае интегрирование вдоль третьего направления (обычно - вдоль Z) выполняется путем простого умножения на толщину.\n",
    "\n",
    "$\\hspace{0.25cm}$ Однако возможны два варианта. Плоско напряженное состояние - напряжения вдоль третьей оси полагаются нулевыми, а деформации свободны (отсутствуют ограничения вдоль третьей оси). Плоское деформированное состояния - деформации (а соответственно - и перемещения) фиксируются вдоль третьей оси, а напряжения остаются свободными.\n",
    "Соответственно, для плоского деформированного состояния матрица упругости может быть получена из общего случая, путем вычеркивания лишних строк и столбцов:\n",
    "\n",
    "\n",
    "$$\n",
    "    \\mathbf{E} = \\frac{E(1-\\nu)}{(1+\\nu)(1-2\\nu)}\\left[\n",
    "        \\begin{matrix}\n",
    "        1 & \\frac{\\nu}{1-\\nu} & 0 \\\\\n",
    "        \\frac{\\nu}{1-\\nu} & 1 & 0 \\\\\n",
    "        0 & 0 &  \\frac{1-2\\nu}{2(1-\\nu)}  \\\\\n",
    "\n",
    "\n",
    "        \\end{matrix}\n",
    "    \\right]\n",
    "$$\n",
    "$\\hspace{0.25cm}$ Для плоского напряженного состояния также необходимо учесть, что напряжения равны нулю. Тогда матрица примет вид:\n",
    "$$\n",
    "    \\mathbf{E} = \\frac{E}{1-\\nu^2}\\left[\n",
    "        \\begin{matrix}\n",
    "        1 & \\nu & 0 \\\\\n",
    "        \\nu & 1 & 0 \\\\\n",
    "        0 & 0 &  \\frac{1-\\nu}{2}  \\\\\n",
    "\n",
    "\n",
    "        \\end{matrix}\n",
    "    \\right]\n",
    "$$"
   ]
  },
  {
   "cell_type": "markdown",
   "metadata": {},
   "source": [
    "## Соотношение Фойгта\n",
    "$$\n",
    "    \\left\\{\n",
    "        \\begin{matrix}\n",
    "            \\sigma_{x}\\\\\n",
    "            \\sigma_{y}\\\\\n",
    "            \\sigma_{z}\\\\\n",
    "            \\tau_{yz}\\\\\n",
    "            \\tau_{xz}\\\\\n",
    "            \\tau_{xy}\\\\\n",
    "        \\end{matrix}\n",
    "    \\right\\}\n",
    "    =\n",
    "    \\left\\{\n",
    "        \\begin{matrix}\n",
    "            \\sigma_{11}\\\\\n",
    "            \\sigma_{22}\\\\\n",
    "            \\sigma_{33}\\\\\n",
    "            \\sigma_{23}\\\\\n",
    "            \\sigma_{13}\\\\\n",
    "            \\sigma_{12}\\\\\n",
    "        \\end{matrix}\n",
    "    \\right\\}\n",
    "    \\hspace{0.7cm}\n",
    "    \\&\n",
    "    \\hspace{0.7cm}\n",
    "     \\left\\{\n",
    "        \\begin{matrix}\n",
    "            \\varepsilon_{x}\\\\\n",
    "            \\varepsilon_{y}\\\\\n",
    "            \\varepsilon_{z}\\\\\n",
    "            \\gamma_{yz}\\\\\n",
    "            \\gamma_{xz}\\\\\n",
    "            \\gamma_{xy}\\\\\n",
    "        \\end{matrix}\n",
    "    \\right\\}\n",
    "    =\n",
    "    \\left\\{\n",
    "        \\begin{matrix}\n",
    "            \\varepsilon_{11}\\\\\n",
    "            \\varepsilon_{22}\\\\\n",
    "            \\varepsilon_{33}\\\\\n",
    "            2\\varepsilon_{23}\\\\\n",
    "            2\\varepsilon_{13}\\\\\n",
    "            2\\varepsilon_{12}\\\\\n",
    "        \\end{matrix}\n",
    "    \\right\\}\n",
    "\n",
    "    \n",
    "$$"
   ]
  },
  {
   "cell_type": "markdown",
   "metadata": {},
   "source": [
    "## Создание геометрии\n",
    "\n",
    "![image](less2.jpg)"
   ]
  },
  {
   "cell_type": "markdown",
   "metadata": {},
   "source": [
    "$\\hspace{0.25cm}$ В данном случае проведем моделирование плоского образца из стали. На левой границе перемещение равно нулю, правая граница перемещается на 1 мм."
   ]
  },
  {
   "cell_type": "code",
   "execution_count": null,
   "metadata": {},
   "outputs": [],
   "source": [
    "# ГОСТ 1497-84, образец плоский, тип I, образец номер №6\n",
    "mm = 1e-3;\n",
    "B = 40mm;\n",
    "l0 = 140mm;\n",
    "a0 = 20mm;\n",
    "b0 = 30mm;\n",
    "l = l0+2*sqrt(a0*b0);\n",
    "h1 = 80mm;\n",
    "r = (B-b0)/2;"
   ]
  },
  {
   "cell_type": "code",
   "execution_count": null,
   "metadata": {},
   "outputs": [],
   "source": [
    "using Gmsh\n",
    "using GridapGmsh\n",
    "using Gridap\n",
    "\n",
    "gmsh.initialize()\n",
    "\n",
    "gmsh.option.setNumber(\"General.Terminal\", 0);\n",
    "ms_max = 1;\n",
    "ms_min = 0.1;\n",
    "MSFC = 3;\n",
    "EL_ORDER = 1\n",
    "gmsh.option.setNumber(\"Mesh.MeshSizeFromCurvature\", MSFC);\n",
    "# gmsh.option.setNumber(\"Mesh.MeshSizeMax\", diam/2);\n",
    "# gmsh.option.setNumber(\"Mesh.MeshSizeMin\", diam/5);\n",
    "gmsh.option.setNumber(\"Mesh.MaxNumThreads3D\", 8);\n",
    "gmsh.option.setNumber(\"Mesh.ElementOrder\", EL_ORDER);\n",
    "# gmsh.option.setNumber(\"Mesh.Algorithm3D\", 9);\n",
    "# gmsh.option.setNumber(\"Mesh.SubdivisionAlgorithm\", 2);\n",
    "\n",
    "gmsh.model.add(\"L_2_1\")\n",
    "\n",
    "Lc1 = 1mm;\n",
    "\n",
    "factory = gmsh.model.geo;\n",
    "factory.addPoint(0,             0,      0, Lc1, 1);#left-bottom corner\n",
    "factory.addPoint(h1,            0,      0, Lc1, 2); #begin of first arc\n",
    "factory.addPoint(h1+r,          0,      0, Lc1, 3); #center of first arc\n",
    "factory.addPoint(h1+r,          r,      0, Lc1, 4); #end of first arc\n",
    "factory.addPoint(h1+r+l,        r,      0, Lc1, 5); #begin of second arc\n",
    "factory.addPoint(h1+r+l,        0,      0, Lc1, 6); #center of second arc\n",
    "factory.addPoint(h1+r+l+r,      0,      0, Lc1, 7); #begin of second arc\n",
    "factory.addPoint(h1+r+l+r+h1,   0,      0, Lc1, 8); #right-buttom corner\n",
    "factory.addPoint(h1+r+l+r+h1,   B,      0, Lc1, 9); #right-top corner\n",
    "factory.addPoint(h1+r+l+r,      B,      0, Lc1, 10); #begin of third arc\n",
    "factory.addPoint(h1+r+l,        B,      0, Lc1, 11); #center of third arc\n",
    "factory.addPoint(h1+r+l,        B-r,    0, Lc1, 12); #end of third arc\n",
    "factory.addPoint(h1+r,          B-r,    0, Lc1, 13); #begin of fourth arc\n",
    "factory.addPoint(h1+r,          B,      0, Lc1, 14); #center of fourth arc\n",
    "factory.addPoint(h1,            B,      0, Lc1, 15); #end of fourth arc\n",
    "factory.addPoint(0,             B,      0, Lc1, 16); #end of fourth arc\n",
    "\n",
    "\n",
    "factory.addLine(1, 2, 1);\n",
    "factory.addCircleArc(2, 3, 4, 2);\n",
    "\n",
    "factory.addLine(4, 5, 3);\n",
    "factory.addCircleArc(5, 6, 7, 4);\n",
    "\n",
    "factory.addLine(7, 8, 5);\n",
    "factory.addLine(8, 9, 6);\n",
    "factory.addLine(9, 10, 7);\n",
    "factory.addCircleArc(10, 11, 12, 8);\n",
    "\n",
    "factory.addLine(12, 13, 9);\n",
    "factory.addCircleArc(13, 14, 15, 10);\n",
    "factory.addLine(15, 16, 11);\n",
    "factory.addLine(16, 1, 12);\n",
    "\n",
    "factory.addPhysicalGroup(1, [12], -1,\"left\");\n",
    "factory.addPhysicalGroup(1, [6], -1, \"right\");\n",
    "factory.addPhysicalGroup(1, [1, 2, 3, 4, 5, 7, 8, 9, 10, 11], -1, \"free\");\n",
    "\n",
    "factory.synchronize();\n",
    "\n",
    "factory.addCurveLoop(collect(1:12), 13);\n",
    "\n",
    "\n",
    "\n",
    "factory.addPlaneSurface([13], 6)\n",
    "\n",
    "\n",
    "factory.synchronize()\n",
    "\n",
    "factory.addPhysicalGroup(2, [6], -1, \"test_sample\");\n",
    "\n",
    "factory.synchronize()\n",
    "\n",
    "gmsh.model.mesh.generate(2)\n",
    "\n",
    "\n",
    "name = \"test_sample.msh\" |> tcf;\n",
    "print(name)\n",
    "gmsh.write(name)\n",
    "\n",
    "# gmsh.fltk.run()\n",
    "\n",
    "gmsh.finalize()\n"
   ]
  },
  {
   "cell_type": "code",
   "execution_count": null,
   "metadata": {},
   "outputs": [],
   "source": [
    "\n",
    "model = GmshDiscreteModel(name);\n",
    "\n",
    "vtk_file = \"model_speciment\" |> tcf;\n",
    "writevtk(model, vtk_file); # запишем модель в vtk"
   ]
  },
  {
   "cell_type": "markdown",
   "metadata": {},
   "source": [
    "$\\hspace{0.25cm}$ В результате был создан файл с облаком точек. \n",
    "Можно легко проверить границы которые имеются в импортированном файле в программе Paraview.\n",
    "\n",
    "\n",
    "![image](free.png)"
   ]
  },
  {
   "cell_type": "code",
   "execution_count": null,
   "metadata": {},
   "outputs": [],
   "source": [
    "const E = 2.1e11\n",
    "const ν = 0.3\n",
    "\n",
    "const λ = E*ν/(1+ν)/(1-2*ν)\n",
    "const μ = E/2/(1+ν)\n",
    "\n",
    "\n",
    "\n",
    "\n",
    "# function σ(eps)\n",
    "#     # λ = E*ν/(1+ν)/(1-2*ν)\n",
    "#     # μ = E/2/(1+ν)\n",
    "#     # return lambda_ * ufl.nabla_div(u) * ufl.Identity(len(u)) + 2 * mu * epsilon(u)\n",
    "#     return λ*tr(eps)*I(2) + 2*μ*eps\n",
    "# end\n",
    "\n",
    "σ(e) = λ*tr(e)*one(e) + 2*μ*e\n",
    "σ(u) = λ*tr(ε(u))*one(ε(u)) + 2*μ*ε(u)\n",
    "# Model\n",
    "flag = 1;\n",
    "k1 = ν/(1-ν);\n",
    "k2 = 0.5*(1-2ν)/(1-ν);\n",
    "k3 = (1-ν)/2;\n",
    "\n",
    "plain_stress = true;\n",
    "mE = Matrix{Float64}(undef, 3, 3);\n",
    "if plain_stress\n",
    "    mE[:,:] = [\n",
    "        1  k1  0;\n",
    "        k1  1  0;\n",
    "        0   0 k2\n",
    "    ]*E*(1-ν)/((1+ν)*(1-2ν));   \n",
    "else\n",
    "    mE[:,:] = [\n",
    "        1  ν  0;\n",
    "        ν  1  0;\n",
    "        0  0 k3;\n",
    "    ]*E/(1-ν^2);\n",
    "end\n",
    "\n",
    "function sigma(e)\n",
    "    # global flag;\n",
    "    # s = λ*tr(e)*one(e) + 2*μ*e\n",
    "    # if flag == 1\n",
    "    #     println(size(e));\n",
    "    #     println(typeof(e));\n",
    "    #     println(typeof(s));\n",
    "    #     flag = 0;\n",
    "    # end\n",
    "\n",
    "    # return s;\n",
    "    \n",
    "\n",
    "    s = copy(e);\n",
    "\n",
    "    v_e =  [e[1,1], e[2,2], 2*e[1,2]];\n",
    "\n",
    "    s[1,1] = mE[1,:]' * v_e;\n",
    "    s[2,2] = mE[2,:]' * v_e;\n",
    "    s[1,2] = s[2,1] = mE[3,:]' * v_e;\n",
    "    return s;\n",
    "end"
   ]
  },
  {
   "cell_type": "markdown",
   "metadata": {},
   "source": [
    "## Векторнозначное пространство КЭ\n",
    "\n",
    "$\\hspace{0.25cm}$ В примере на первой лекции мы искали поле температуры, которое является полем констант, в данном же случае мы ищем поле перемещений, которое является векторным полем. Здесь нам нужно построить векторнозначное пространство КЭ, что делается следующим образом:"
   ]
  },
  {
   "cell_type": "code",
   "execution_count": null,
   "metadata": {},
   "outputs": [],
   "source": [
    "\n",
    "model = GmshDiscreteModel(name);\n",
    "\n",
    "reffe = ReferenceFE(lagrangian,VectorValue{2,Float64},1) #Как и в предыдущем уроке, мы строим непрерывную интерполяцию Лагранжа первого порядка...\n",
    "#...Векторно-значная интерполяция выбирается с помощью \"VectorValue\".\n",
    "\n",
    "V = TestFESpace(model,reffe,conformity=:H1,dirichlet_tags = [\"left\", \"right\"])\n",
    "\n",
    "g0 = VectorValue(0.0,  0.0) # Граничное условие на левой грани – перемещение 0.\n",
    "g1 = VectorValue(1.0mm, 0.0) #Граничное условие на правой грани – перемещение 1 мм.\n",
    "\n",
    "U = TrialFESpace(V, [g0,g1]) # Создаем пространство тестовых функций.\n"
   ]
  },
  {
   "cell_type": "markdown",
   "metadata": {},
   "source": [
    "## Слабая форма\n",
    "$\\hspace{0.25cm}$ Как и в прошлом примере, для того, чтобы определить слабую форму, нам нужно построить сетку интегрирования и соответствующую меру"
   ]
  },
  {
   "cell_type": "code",
   "execution_count": null,
   "metadata": {},
   "outputs": [],
   "source": [
    "degree = 2\n",
    "Ω = Triangulation(model)\n",
    "dΩ = Measure(Ω,degree)"
   ]
  },
  {
   "cell_type": "markdown",
   "metadata": {},
   "source": [
    "$\\hspace{0.25cm}$ Можем записать слабую форму следующим образом: "
   ]
  },
  {
   "cell_type": "code",
   "execution_count": null,
   "metadata": {},
   "outputs": [],
   "source": [
    "# f = VectorValue(0.0, - gravity * ρ)\n",
    "A(u,v) = ∫( ε(v) ⊙ (σ(u)) )*dΩ # По физическому смыслу это работа внутренних сил.\n",
    "L(v) = 0; # По физическому смыслу это работа внешних сил и в данном примере она равна нулю.\n",
    "#∫(dot(f, v))*dΩ \n"
   ]
  },
  {
   "cell_type": "markdown",
   "metadata": {},
   "source": [
    "⊙ - в gridap это inner product; в данном случае, дважды скалярное произведение двух тензоров"
   ]
  },
  {
   "cell_type": "markdown",
   "metadata": {},
   "source": [
    "## Решение задачи КЭ\n",
    "$\\hspace{0.25cm}$ Остальные шаги решения задачи КЭ по сути те же, что и в предыдущем уроке."
   ]
  },
  {
   "cell_type": "code",
   "execution_count": null,
   "metadata": {},
   "outputs": [],
   "source": [
    "op = AffineFEOperator(A, L, U,V)\n",
    "\n",
    "x0 = zeros(Float64, num_free_dofs(V))\n",
    "uh_lin = FEFunction(U,x0)\n",
    "ls = BackslashSolver()\n",
    "solver = LinearFESolver(ls)\n",
    "\n",
    "uh_lin, _ = solve!(uh_lin,solver,op)"
   ]
  },
  {
   "cell_type": "markdown",
   "metadata": {},
   "source": [
    "$\\hspace{0.25cm}$ Наконец, мы записываем результаты в файл. Обратите внимание, что мы также включаем тензоры деформации и напряжений в файл результатов."
   ]
  },
  {
   "cell_type": "code",
   "execution_count": null,
   "metadata": {},
   "outputs": [],
   "source": [
    "res_file = \"results_new\" |> tcf;\n",
    "\n",
    "writevtk(Ω, res_file ,  cellfields=[\"uh\"=>uh_lin,\"sigma\"=>σ(uh_lin)])"
   ]
  },
  {
   "cell_type": "markdown",
   "metadata": {},
   "source": [
    "$\\hspace{0.25cm}$ В результате было получено поле напряжений и поле перемещений, которые представлены на рисунках ниже. Визуализация результатов проводилась так же с использованием Paraview, для наглядности Scale Factor = 100.\n",
    "\n",
    "\n",
    "\n",
    "<center><img src=\"sigma_Magnitude.png\"/></center>\n",
    "<center>Поле напряжений</center>\n",
    " <br>\n",
    "<center><img src=\"uh_Magnitude.png\"/></center>\n",
    "<center>Поле перемещений</center>"
   ]
  }
 ],
 "metadata": {
  "kernelspec": {
   "display_name": "Julia 1.7.3",
   "language": "julia",
   "name": "julia-1.7"
  },
  "language_info": {
   "file_extension": ".jl",
   "mimetype": "application/julia",
   "name": "julia",
   "version": "1.7.3"
  }
 },
 "nbformat": 4,
 "nbformat_minor": 2
}
