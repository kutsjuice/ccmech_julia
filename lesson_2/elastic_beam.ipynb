{
 "cells": [
  {
   "cell_type": "code",
   "execution_count": 36,
   "metadata": {},
   "outputs": [],
   "source": [
    "tcf(filename::String) = (@__DIR__) * \"\\\\\" * filename;"
   ]
  },
  {
   "cell_type": "code",
   "execution_count": 37,
   "metadata": {},
   "outputs": [
    {
     "name": "stdout",
     "output_type": "stream",
     "text": [
      "c:\\Users\\kutsj\\OneDrive\\Education\\Programming\\Julia\\CCM_tut\\lesson_2\\beam.mshInfo    : Reading 'c:\\Users\\kutsj\\OneDrive\\Education\\Programming\\Julia\\CCM_tut\\lesson_2\\beam.msh'...\n",
      "Info    : 9 entities\n",
      "Info    : 128 nodes\n",
      "Info    : 254 elements\n",
      "Info    : Done reading 'c:\\Users\\kutsj\\OneDrive\\Education\\Programming\\Julia\\CCM_tut\\lesson_2\\beam.msh'\n"
     ]
    }
   ],
   "source": [
    "using Gmsh\n",
    "using Gridap\n",
    "using GridapGmsh\n",
    "\n",
    "\n",
    "gmsh.initialize()\n",
    "\n",
    "gmsh.option.setNumber(\"General.Terminal\", 0);\n",
    "ms_max = 1;\n",
    "ms_min = 0.1;\n",
    "MSFC = 3;\n",
    "EL_ORDER = 1\n",
    "gmsh.option.setNumber(\"Mesh.MeshSizeFromCurvature\", MSFC);\n",
    "# gmsh.option.setNumber(\"Mesh.MeshSizeMax\", diam/2);\n",
    "# gmsh.option.setNumber(\"Mesh.MeshSizeMin\", diam/5);\n",
    "gmsh.option.setNumber(\"Mesh.MaxNumThreads3D\", 8);\n",
    "gmsh.option.setNumber(\"Mesh.ElementOrder\", EL_ORDER);\n",
    "# gmsh.option.setNumber(\"Mesh.Algorithm3D\", 9);\n",
    "# gmsh.option.setNumber(\"Mesh.SubdivisionAlgorithm\", 2);\n",
    "\n",
    "gmsh.model.add(\"L_2_1\")\n",
    "\n",
    "len = 1;\n",
    "height = 0.2;\n",
    "width = 0.2\n",
    "\n",
    "\n",
    "Lc1 = 0.05;\n",
    "\n",
    "factory = gmsh.model.geo;\n",
    "factory.addPoint(  0,      0,  0, Lc1, 1);\n",
    "factory.addPoint(len,      0,  0, Lc1, 2);\n",
    "factory.addPoint(len, height,  0, Lc1, 3);\n",
    "factory.addPoint(  0, height,  0, Lc1, 4);\n",
    "\n",
    "\n",
    "factory.addLine(1, 2, 1);\n",
    "factory.addLine(2, 3, 2);\n",
    "factory.addLine(3, 4, 3);\n",
    "factory.addLine(4, 1, 4);\n",
    "\n",
    "\n",
    "\n",
    "factory.addPhysicalGroup(1, [1, 3], -1, \"free\");\n",
    "factory.addPhysicalGroup(1, [2], -1, \"loaded\");\n",
    "factory.addPhysicalGroup(1, [4], -1, \"fixed\");\n",
    "\n",
    "factory.synchronize();\n",
    "\n",
    "factory.addCurveLoop([1,2,3,4], 5);\n",
    "\n",
    "\n",
    "\n",
    "factory.addPlaneSurface([5], 6)\n",
    "\n",
    "\n",
    "factory.synchronize()\n",
    "\n",
    "factory.addPhysicalGroup(2, [6], -1, \"beam\");\n",
    "\n",
    "factory.synchronize()\n",
    "\n",
    "gmsh.model.mesh.generate(2)\n",
    "\n",
    "\n",
    "name = \"beam.msh\" |> tcf;\n",
    "print(name)\n",
    "gmsh.write(name)\n",
    "\n",
    "gmsh.finalize()\n",
    "\n",
    "\n",
    "model = GmshDiscreteModel(name);\n",
    "\n",
    "vtk_file = \"model\" |> tcf;\n",
    "writevtk(model, vtk_file);"
   ]
  },
  {
   "cell_type": "code",
   "execution_count": 38,
   "metadata": {},
   "outputs": [
    {
     "data": {
      "text/plain": [
       "UnconstrainedFESpace()"
      ]
     },
     "metadata": {},
     "output_type": "display_data"
    }
   ],
   "source": [
    "reffe = ReferenceFE(lagrangian,VectorValue{2,Float64}, EL_ORDER)\n",
    "\n",
    "V = TestFESpace(model,reffe;\n",
    "  conformity=:H1,\n",
    "  dirichlet_tags=[\"fixed\"],\n",
    "  dirichlet_masks=[(true,true)]\n",
    "  )"
   ]
  },
  {
   "cell_type": "code",
   "execution_count": 39,
   "metadata": {},
   "outputs": [
    {
     "data": {
      "text/plain": [
       "g (generic function with 1 method)"
      ]
     },
     "metadata": {},
     "output_type": "display_data"
    }
   ],
   "source": [
    "g(x) = VectorValue(0.0, 0.0)"
   ]
  },
  {
   "cell_type": "code",
   "execution_count": 40,
   "metadata": {},
   "outputs": [
    {
     "data": {
      "text/plain": [
       "TrialFESpace()"
      ]
     },
     "metadata": {},
     "output_type": "display_data"
    }
   ],
   "source": [
    "U = TrialFESpace(V,[g])"
   ]
  },
  {
   "cell_type": "code",
   "execution_count": 45,
   "metadata": {},
   "outputs": [
    {
     "data": {
      "text/plain": [
       "σ (generic function with 1 method)"
      ]
     },
     "metadata": {},
     "output_type": "display_data"
    }
   ],
   "source": [
    "const E = 2.1e11\n",
    "const ν = 0.3\n",
    "const ρ = 7800\n",
    "const gravity = 9.8\n",
    "\n",
    "function σ(eps)\n",
    "    λ = E*ν/(1+ν)/(1-2*ν)\n",
    "    μ = E/2/(1+ν)\n",
    "    return λ*tr(eps)*one(eps) + 2*μ*(eps)\n",
    "end"
   ]
  },
  {
   "cell_type": "code",
   "execution_count": 46,
   "metadata": {},
   "outputs": [
    {
     "data": {
      "text/plain": [
       "GenericMeasure()"
      ]
     },
     "metadata": {},
     "output_type": "display_data"
    }
   ],
   "source": [
    "degree = 2*EL_ORDER\n",
    "Ω = Triangulation(model)\n",
    "dΩ = Measure(Ω,degree)"
   ]
  },
  {
   "cell_type": "code",
   "execution_count": 51,
   "metadata": {},
   "outputs": [
    {
     "data": {
      "text/plain": [
       "l (generic function with 1 method)"
      ]
     },
     "metadata": {},
     "output_type": "display_data"
    }
   ],
   "source": [
    "f = VectorValue(0.0, - gravity * ρ)\n",
    "a(u,v) = ∫( ε(v) ⊙ (σ∘ε(u)))*dΩ\n",
    "l(v) = ∫(dot(f, v))*dΩ"
   ]
  },
  {
   "cell_type": "code",
   "execution_count": 52,
   "metadata": {},
   "outputs": [
    {
     "data": {
      "text/plain": [
       "SingleFieldFEFunction():\n",
       " num_cells: 206\n",
       " DomainStyle: ReferenceDomain()\n",
       " Triangulation: BodyFittedTriangulation()\n",
       " Triangulation id: 522409693027647030"
      ]
     },
     "metadata": {},
     "output_type": "display_data"
    }
   ],
   "source": [
    "op = AffineFEOperator(a,l,U,V)\n",
    "uh = solve(op)"
   ]
  },
  {
   "cell_type": "code",
   "execution_count": 53,
   "metadata": {},
   "outputs": [
    {
     "data": {
      "text/plain": [
       "([\"c:\\\\Users\\\\kutsj\\\\OneDrive\\\\Education\\\\Programming\\\\Julia\\\\CCM_tut\\\\lesson_2\\\\results.vtu\"],)"
      ]
     },
     "metadata": {},
     "output_type": "display_data"
    }
   ],
   "source": [
    "res_file = \"results\" |> tcf;\n",
    "writevtk(Ω, res_file,cellfields=[\"uh\"=>uh,\"epsi\"=>ε(uh),\"sigma\"=>σ∘ε(uh)])"
   ]
  },
  {
   "cell_type": "code",
   "execution_count": null,
   "metadata": {},
   "outputs": [],
   "source": []
  }
 ],
 "metadata": {
  "kernelspec": {
   "display_name": "Julia 1.9.2",
   "language": "julia",
   "name": "julia-1.9"
  },
  "language_info": {
   "file_extension": ".jl",
   "mimetype": "application/julia",
   "name": "julia",
   "version": "1.9.2"
  }
 },
 "nbformat": 4,
 "nbformat_minor": 2
}
