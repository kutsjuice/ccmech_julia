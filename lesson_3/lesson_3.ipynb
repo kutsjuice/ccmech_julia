{
 "cells": [
  {
   "cell_type": "code",
   "execution_count": 3,
   "metadata": {},
   "outputs": [],
   "source": [
    "tcf(filename::String) = (@__DIR__) * \"\\\\\" * filename;"
   ]
  },
  {
   "cell_type": "markdown",
   "metadata": {},
   "source": [
    "# Исследование напряженного состояния кронштейна"
   ]
  },
  {
   "cell_type": "markdown",
   "metadata": {},
   "source": [
    "В рамках данного урока м рассмотрим трехмерную задачу о нагружении кронштейна.\n",
    "В прошлых уроках мы строили геометрию вручную при помощи инструментов gmsh, однако для более сложной геометрии такой подход не слишком удобен, и гораздо проще воспользоваться какой-либо CAD системой, позволяющей строить 3D геометрию.\n",
    "Расчетная схема представлена на рисунке 1."
   ]
  },
  {
   "cell_type": "markdown",
   "metadata": {},
   "source": [
    "В данном случае, геометрия была построена в [бесплатном пакете FreeCAD]/[отечественном пакете Компас3D] и экспортирована в формат `*.stp`. Полученая геометрия показана на рисунке ниже."
   ]
  },
  {
   "cell_type": "markdown",
   "metadata": {},
   "source": [
    "Для приложения нагрузки цилиндрическая поверхность была разделена на две половины и нижня окрашена в цвет (0, 100, 0). В дальнейшем мы буем использовать цвет поверхности для быстрого поиска данной поверхности при загрузке ее gmsh. Аналогичным образом поверхность, которая фиксируется, помечена цветом (100, 0, 0)."
   ]
  },
  {
   "cell_type": "markdown",
   "metadata": {},
   "source": [
    "## Импорт геометрии подготовка КЭ сетки\n",
    "\n",
    "Импорт готовой геометрии в gmsh осуществляется при помощи функции `gmsh.model.occ.importShapes(file_name)`\n",
    "Далее необходимо выявить индексы поверхностей, которые были помечены при моделировании. Для этого можно поместить их в словарь, ключем которого будет являтся цвет, а значением - индекс поверхности. После этого данным поверхностям следует задать метки, для чего необходимо поместить их в физический группы при помощи команды `gmsh.model.addPhysicalGroup(dim, ents, id, label)`, где:\n",
    "- `dim::Integer` - размерность физической группы (0 - точки, 1 - ребра, 2 - поверхности, 3 - объемы);\n",
    "- `ents::Vector{<:Integer}` - вектор из индексов объектов, которые планиурется добавить к физической группе;\n",
    "- `id::Integer` - индекс создаваемой группы (в случае, если будет передано `-1` - индекс проставится автоматически);\n",
    "- `label::String` - метка создаваемой группы\n",
    "Кроме того, необходимо создать физическую группу для основного тела, для того чтобы в дальнейшем gmsh включил его в задание на построение сетки. \n"
   ]
  },
  {
   "cell_type": "code",
   "execution_count": 37,
   "metadata": {},
   "outputs": [],
   "source": [
    "using Gmsh\n",
    "\n",
    "gmsh.initialize()\n",
    "gmsh.option.setNumber(\"General.Terminal\", 0)\n",
    "\n",
    "gmsh.model.add(\"model\")\n",
    "\n",
    "\n",
    "path = \"lug.stp\" |> tcf\n",
    "v = gmsh.model.occ.importShapes(path)\n",
    "\n",
    "\n",
    "gmsh.model.occ.synchronize()\n",
    "\n",
    "faces = Dict()\n",
    "for plane in gmsh.model.getEntities(2)\n",
    "    faces[gmsh.model.getColor(plane...)] = plane[2];\n",
    "    # gmsh.model.addPhysicalGroup(2, [plane[2]], -1, \"$(plane[2])\");\n",
    "end\n",
    "\n",
    "\n",
    "d3 = gmsh.model.getEntities(3)\n",
    "gmsh.model.addPhysicalGroup(3, [d3[1][2]], -1, \"domain\")\n",
    "\n",
    "d2 = gmsh.model.getEntities(2)\n",
    "gmsh.model.addPhysicalGroup(2, [faces[(0,100,0,255)]], -1, \"loaded\")\n",
    "gmsh.model.addPhysicalGroup(2, [faces[(100,0,0,255)]], -1, \"fixed\")\n",
    "\n",
    "gmsh.model.occ.synchronize()"
   ]
  },
  {
   "cell_type": "markdown",
   "metadata": {},
   "source": [
    "Далее необходимо задать параметры для построения сетки. В Gmsh предусмотрено несколько вариантов для задания параметров сетки. Один из них - при мпомощи команды gmsh.options.setNumber(\"Parameter\")В качестве параметров можно задать:\n",
    " - минимальный и максимальный размеры элемента\n",
    " - количество элементов на криволинейных поверхностях\n",
    " - алгоритм триангуляции\n",
    " - и т.д.\n",
    "Подробный список параметров можно посмотреть в руководстве gmsh.\n",
    "\n",
    "После этого необходимо синхронизировать модель, выполнить генерацию сетки, сохранить результат в файл и завершить сессию gmsh."
   ]
  },
  {
   "cell_type": "code",
   "execution_count": 38,
   "metadata": {},
   "outputs": [],
   "source": [
    "gmsh.option.setNumber(\"Mesh.MeshSizeMax\", 3.0)          #Максимальный размер элементов внутри всей модели - 3мм\n",
    "gmsh.option.setNumber(\"Mesh.MeshSizeFromCurvature\", 50) #колличество элементов на 2pi радиан\n",
    "\n",
    "gmsh.model.mesh.generate(3)\n",
    "msh_file = \"lug.msh\" |> tcf;\n",
    "gmsh.write(msh_file)\n",
    "\n",
    "# gmsh.fltk.run()\n",
    "\n",
    "gmsh.finalize();"
   ]
  },
  {
   "cell_type": "markdown",
   "metadata": {},
   "source": [
    "## Создание модели в Gridap"
   ]
  },
  {
   "cell_type": "markdown",
   "metadata": {},
   "source": [
    "В этот раз, в отличие от предыдущего урока, воспользуемся встроиным в Gridap функционалом для построения конечных элементов.\n",
    "\n",
    "Мы уже упомянали, что напряжения и деформации являются тензорами []. Наиболее простой представить   "
   ]
  },
  {
   "cell_type": "code",
   "execution_count": null,
   "metadata": {},
   "outputs": [],
   "source": [
    "const E = 2.1e5\n",
    "const ν = 0.3\n",
    "const λ = (E*ν)/((1+ν)*(1-2*ν))\n",
    "const μ = E/(2*(1+ν))\n",
    "\n",
    "σ(ε) = λ*tr(ε) + 2*μ*ε"
   ]
  }
 ],
 "metadata": {
  "kernelspec": {
   "display_name": "Julia 1.7.2",
   "language": "julia",
   "name": "julia-1.7"
  },
  "language_info": {
   "file_extension": ".jl",
   "mimetype": "application/julia",
   "name": "julia",
   "version": "1.7.2"
  }
 },
 "nbformat": 4,
 "nbformat_minor": 2
}
