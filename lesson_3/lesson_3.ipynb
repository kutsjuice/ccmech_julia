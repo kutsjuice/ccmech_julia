{
 "cells": [
  {
   "cell_type": "code",
   "execution_count": 2,
   "metadata": {},
   "outputs": [],
   "source": [
    "tcf(filename::String) = (@__DIR__) * \"\\\\\" * filename;\n",
    "\n",
    "using Gridap\n",
    "using GridapGmsh"
   ]
  },
  {
   "cell_type": "markdown",
   "metadata": {},
   "source": [
    "# Исследование напряженного состояния кронштейна"
   ]
  },
  {
   "cell_type": "markdown",
   "metadata": {},
   "source": [
    "В рамках данного урока м рассмотрим трехмерную задачу о нагружении кронштейна.\n",
    "В прошлых уроках мы строили геометрию вручную при помощи инструментов gmsh, однако для более сложной геометрии такой подход не слишком удобен, и гораздо проще воспользоваться какой-либо CAD системой, позволяющей строить 3D геометрию.\n",
    "Расчетная схема представлена на рисунке 1."
   ]
  },
  {
   "cell_type": "markdown",
   "metadata": {},
   "source": [
    "В данном случае, геометрия была построена в [бесплатном пакете FreeCAD]/[отечественном пакете Компас3D] и экспортирована в формат `*.stp`. Полученая геометрия показана на рисунке ниже."
   ]
  },
  {
   "cell_type": "markdown",
   "metadata": {},
   "source": [
    "Для приложения нагрузки цилиндрическая поверхность была разделена на две половины и нижня окрашена в цвет (0, 100, 0). В дальнейшем мы буем использовать цвет поверхности для быстрого поиска данной поверхности при загрузке ее gmsh. Аналогичным образом поверхность, которая фиксируется, помечена цветом (100, 0, 0)."
   ]
  },
  {
   "cell_type": "markdown",
   "metadata": {},
   "source": [
    "## Импорт геометрии подготовка КЭ сетки\n",
    "\n",
    "Импорт готовой геометрии в gmsh осуществляется при помощи функции `gmsh.model.occ.importShapes(file_name)`\n",
    "Далее необходимо выявить индексы поверхностей, которые были помечены при моделировании. Для этого можно поместить их в словарь, ключем которого будет являтся цвет, а значением - индекс поверхности. После этого данным поверхностям следует задать метки, для чего необходимо поместить их в физический группы при помощи команды `gmsh.model.addPhysicalGroup(entity_dimension, vector_of_entities_tags, ph_group_id, \"group_label\")`. Кроме того, необходимо создать физическую группу для основного тела, для того чтобы в дальнейшем gmsh включил его в задание на построение сетки. \n"
   ]
  },
  {
   "cell_type": "code",
   "execution_count": 1,
   "metadata": {},
   "outputs": [
    {
     "ename": "UndefVarError",
     "evalue": "UndefVarError: tcf not defined",
     "output_type": "error",
     "traceback": [
      "UndefVarError: tcf not defined\n",
      "\n",
      "Stacktrace:\n",
      " [1] top-level scope\n",
      "   @ c:\\gitpro\\ccmech_julia\\lesson_3\\lesson_3.ipynb:7"
     ]
    }
   ],
   "source": [
    "using Gmsh\n",
    "\n",
    "gmsh.initialize()\n",
    "\n",
    "gmsh.model.add(\"model\")\n",
    "\n",
    "path = \"lug.stp\" |> tcf\n",
    "v = gmsh.model.occ.importShapes(path)\n",
    "\n",
    "gmsh.model.occ.synchronize()\n",
    "\n",
    "\n",
    "faces = Dict()\n",
    "for plane in gmsh.model.getEntities(2)\n",
    "    faces[gmsh.model.getColor(plane...)] = plane[2];\n",
    "    # gmsh.model.addPhysicalGroup(2, [plane[2]], -1, \"$(plane[2])\");\n",
    "end\n",
    "\n"
   ]
  },
  {
   "cell_type": "markdown",
   "metadata": {},
   "source": [
    "Далее необходимо задать параметры для построения сетки. В Gmsh предусмотрено несколько вариантов для задания параметров сетки. Один из них - при мпомощи команды gmsh.options.setNumber(\"Parameter\")В качестве параметров можно задать:\n",
    " - максимальный размер ст"
   ]
  },
  {
   "cell_type": "code",
   "execution_count": null,
   "metadata": {},
   "outputs": [],
   "source": []
  }
 ],
 "metadata": {
  "kernelspec": {
   "display_name": "Julia 1.7.2",
   "language": "julia",
   "name": "julia-1.7"
  },
  "language_info": {
   "file_extension": ".jl",
   "mimetype": "application/julia",
   "name": "julia",
   "version": "1.7.2"
  }
 },
 "nbformat": 4,
 "nbformat_minor": 2
}
