{
 "cells": [
  {
   "cell_type": "code",
   "execution_count": 1,
   "metadata": {},
   "outputs": [],
   "source": [
    "tcf(filename::String) = (@__DIR__) * \"\\\\\" * filename;"
   ]
  },
  {
   "cell_type": "markdown",
   "metadata": {},
   "source": [
    "# Исследование напряженного состояния кронштейна"
   ]
  },
  {
   "cell_type": "markdown",
   "metadata": {},
   "source": [
    "В рамках данного урока м рассмотрим трехмерную задачу о нагружении кронштейна.\n",
    "В прошлых уроках мы строили геометрию вручную при помощи инструментов gmsh, однако для более сложной геометрии такой подход не слишком удобен, и гораздо проще воспользоваться какой-либо CAD системой, позволяющей строить 3D геометрию.\n",
    "Расчетная схема представлена на следующем рисунке."
   ]
  },
  {
   "cell_type": "markdown",
   "metadata": {},
   "source": [
    "\n",
    "\n",
    "\n",
    "<center><img src=\"lug_sch.png\" width=\"500\"/></center>\n",
    "<center>Расчетная схема</center>"
   ]
  },
  {
   "cell_type": "markdown",
   "metadata": {},
   "source": [
    "В данном случае, геометрия была построена в [бесплатном пакете FreeCAD]/[отечественном пакете Компас3D] и экспортирована в формат `*.stp`. Полученная геометрия показана на рисунке ниже."
   ]
  },
  {
   "cell_type": "markdown",
   "metadata": {},
   "source": [
    "\n",
    "<center><img src=\"lug_model.png\" width=\"400\"/></center>\n",
    "<center>3D модель исследуемой детали с отмеченными границами</center>"
   ]
  },
  {
   "cell_type": "markdown",
   "metadata": {},
   "source": [
    "Для приложения нагрузки цилиндрическая поверхность была разделена на две половины и нижняя окрашена в цвет RGB(0, 100, 0). В дальнейшем мы буем использовать цвет поверхности для быстрого поиска данной поверхности при загрузке ее gmsh. Аналогичным образом поверхность, которая фиксируется, помечена цветом RGB(100, 0, 0)."
   ]
  },
  {
   "cell_type": "markdown",
   "metadata": {},
   "source": [
    "## Импорт геометрии подготовка КЭ сетки\n",
    "\n",
    "Импорт готовой геометрии в gmsh осуществляется при помощи функции `gmsh.model.occ.importShapes(file_name)`\n",
    "Далее необходимо выявить индексы поверхностей, которые были помечены при моделировании. Для этого можно поместить их в словарь, ключем которого будет цвет, а значением - индекс поверхности. После этого данным поверхностям следует задать метки, для чего необходимо поместить их в физический группы при помощи команды `gmsh.model.addPhysicalGroup(dim, ents, id, label)`, где:\n",
    "- `dim::Integer` - размерность физической группы (0 - точки, 1 - ребра, 2 - поверхности, 3 - объемы);\n",
    "- `ents::Vector{<:Integer}` - вектор из индексов объектов, которые планируется добавить к физической группе;\n",
    "- `id::Integer` - индекс создаваемой группы (в случае, если будет передано `-1` - индекс проставится автоматически);\n",
    "- `label::String` - метка создаваемой группы\n",
    "Кроме того, необходимо создать физическую группу для основного тела, для того чтобы в дальнейшем gmsh включил его в задание на построение сетки.\n"
   ]
  },
  {
   "cell_type": "code",
   "execution_count": 2,
   "metadata": {},
   "outputs": [],
   "source": [
    "using Gmsh\n",
    "\n",
    "gmsh.initialize()\n",
    "gmsh.option.setNumber(\"General.Terminal\", 0)\n",
    "\n",
    "gmsh.model.add(\"model\")\n",
    "\n",
    "\n",
    "path = \"lug.stp\" |> tcf\n",
    "v = gmsh.model.occ.importShapes(path)\n",
    "\n",
    "\n",
    "gmsh.model.occ.synchronize()\n",
    "\n",
    "faces = Dict()\n",
    "for plane in gmsh.model.getEntities(2)\n",
    "    faces[gmsh.model.getColor(plane...)] = plane[2];\n",
    "    # gmsh.model.addPhysicalGroup(2, [plane[2]], -1, \"$(plane[2])\");\n",
    "end\n",
    "\n",
    "\n",
    "d3 = gmsh.model.getEntities(3)\n",
    "gmsh.model.addPhysicalGroup(3, [d3[1][2]], -1, \"domain\")\n",
    "\n",
    "d2 = gmsh.model.getEntities(2)\n",
    "gmsh.model.addPhysicalGroup(2, [faces[(0,100,0,255)]], -1, \"loaded\")\n",
    "gmsh.model.addPhysicalGroup(2, [faces[(100,0,0,255)]], -1, \"fixed\")\n",
    "\n",
    "gmsh.model.occ.synchronize()"
   ]
  },
  {
   "cell_type": "markdown",
   "metadata": {},
   "source": [
    "Далее необходимо задать параметры для построения сетки. В Gmsh предусмотрено несколько вариантов задания параметров сетки. Один из них - при помощи команды gmsh.options.setNumber(\"Parameter\"). В качестве параметров можно задать:\n",
    " - минимальный и максимальный размеры элемента\n",
    " - количество элементов на криволинейных поверхностях\n",
    " - алгоритм триангуляции\n",
    " - и т.д.\n",
    "Подробный список параметров можно посмотреть в руководстве gmsh.\n",
    "\n",
    "После этого необходимо синхронизировать модель, выполнить генерацию сетки, сохранить результат в файл и завершить сессию gmsh.\n"
   ]
  },
  {
   "cell_type": "code",
   "execution_count": 3,
   "metadata": {},
   "outputs": [],
   "source": [
    "gmsh.option.setNumber(\"Mesh.MeshSizeMax\", 3.0)          #Максимальный размер элементов внутри всей модели - 3мм\n",
    "gmsh.option.setNumber(\"Mesh.MeshSizeFromCurvature\", 50) #колличество элементов на 2pi радиан\n",
    "\n",
    "gmsh.model.mesh.generate(3)\n",
    "msh_file = \"lug.msh\" |> tcf;\n",
    "gmsh.write(msh_file)\n",
    "\n",
    "# gmsh.fltk.run()\n",
    "\n",
    "gmsh.finalize();"
   ]
  },
  {
   "cell_type": "markdown",
   "metadata": {},
   "source": [
    "## Создание модели в Gridap"
   ]
  },
  {
   "cell_type": "markdown",
   "metadata": {},
   "source": [
    "В этот раз, в отличие от предыдущего урока, воспользуемся встроенным в Gridap функционалом для построения конечных элементов.\n",
    "\n",
    "Мы уже упоминали, что напряжения и деформации являются тензорами [1]. \n",
    "\n",
    "$$\n",
    "\\mathbf{\\varepsilon} = \\left[ \n",
    "\\begin{matrix}\n",
    "\\varepsilon_{11} & \\varepsilon_{11} & \\varepsilon_{13}\\\\\n",
    "\\varepsilon_{21} & \\varepsilon_{22} & \\varepsilon_{23}\\\\\n",
    "\\varepsilon_{31} & \\varepsilon_{32} & \\varepsilon_{33}\\\\\n",
    "\\end{matrix} \\right]\n",
    "\\hspace{1.1cm}\n",
    "\\mathbf{\\sigma} = \\left[ \n",
    "\\begin{matrix}\n",
    "\\sigma_{11} & \\sigma_{11} & \\sigma_{13}\\\\\n",
    "\\sigma_{21} & \\sigma_{22} & \\sigma_{23}\\\\\n",
    "\\sigma_{31} & \\sigma_{32} & \\sigma_{33}\\\\\n",
    "\\end{matrix} \\right]\n",
    "$$ \n",
    "\n",
    "В тензорном виде закон Гука может быть записан следующим образом:\n",
    "$$\n",
    "\\rm{\\sigma}(u) = \\lambda \\mathrm{tr}\\left(\\bm{\\varepsilon}(u)\\right)\\mathbf{I} +2\\mu\\bm{\\varepsilon}(u) \n",
    "$$ \n"
   ]
  },
  {
   "cell_type": "code",
   "execution_count": 4,
   "metadata": {},
   "outputs": [
    {
     "data": {
      "text/plain": [
       "σ (generic function with 1 method)"
      ]
     },
     "metadata": {},
     "output_type": "display_data"
    }
   ],
   "source": [
    "const E = 2.1e5\n",
    "const ν = 0.3\n",
    "const λ = (E*ν)/((1+ν)*(1-2*ν))\n",
    "const μ = E/(2*(1+ν))\n",
    "\n",
    "σ(ε) = λ*tr(ε)*one(ε) + 2*μ*ε"
   ]
  },
  {
   "cell_type": "code",
   "execution_count": 5,
   "metadata": {},
   "outputs": [
    {
     "name": "stdout",
     "output_type": "stream",
     "text": [
      "Info    : Reading 'c:\\git_pro\\ccmech_julia\\lesson_3\\lug.msh'...\n",
      "Info    : 64 entities\n",
      "Info    : 9189 nodes\n",
      "Info    : 43051 elements\n",
      "Info    : Done reading 'c:\\git_pro\\ccmech_julia\\lesson_3\\lug.msh'\n",
      "Info    : Reading 'c:\\git_pro\\ccmech_julia\\lesson_3\\lug.msh'...\n",
      "Info    : 64 entities\n",
      "Info    : 9189 nodes\n",
      "Info    : 43051 elements\n",
      "Info    : Done reading 'c:\\git_pro\\ccmech_julia\\lesson_3\\lug.msh'\n"
     ]
    }
   ],
   "source": [
    "using Gridap\n",
    "using GridapGmsh\n",
    "\n",
    "# model = GmshDiscreteModel(msh_file);\n",
    "\n",
    "# vtk_file = \"model\" |> tcf;\n",
    "# writevtk(model, vtk_file);\n",
    "\n",
    "\n",
    "##\n",
    "\n",
    "\n",
    "model = GmshDiscreteModel(msh_file);\n",
    "\n",
    "reffe = ReferenceFE(lagrangian,VectorValue{3,Float64},1) #Как и в предыдущем уроке, мы строим непрерывную интерполяцию Лагранжа первого порядка...\n",
    "#...Векторно-значная интерполяция выбирается с помощью \"VectorValue\".\n",
    "\n",
    "V = TestFESpace(model,reffe,conformity=:H1,dirichlet_tags = [\"fixed\"])\n",
    "\n",
    "g(x) = VectorValue(0.0,  0.0, 0.0) # Граничное условие на левой грани – перемещение 0.\n",
    "\n",
    "U = TrialFESpace(V, [g]) # Создаем пространство триальных функций.\n",
    "EL_ORDER = 1\n",
    "degree = EL_ORDER*2\n",
    "Ω = Triangulation(model)\n",
    "dΩ = Measure(Ω,degree)\n",
    "\n",
    "neumanntags = [\"loaded\"]\n",
    "Γ = BoundaryTriangulation(model,tags=neumanntags)\n",
    "dΓ = Measure(Γ,degree)\n",
    "\n",
    "f(x) = VectorValue(0.0, 0.0, 0.10);"
   ]
  },
  {
   "cell_type": "code",
   "execution_count": 6,
   "metadata": {},
   "outputs": [
    {
     "data": {
      "text/plain": [
       "([\"c:\\\\git_pro\\\\ccmech_julia\\\\lesson_3\\\\results_new.vtu\"],)"
      ]
     },
     "metadata": {},
     "output_type": "display_data"
    }
   ],
   "source": [
    "a(u,v) = ∫(ε(v) ⊙ (σ∘ε(u)) )*dΩ\n",
    "b(v) = ∫( dot(v, f))*dΓ \n",
    "\n",
    "\n",
    "op = AffineFEOperator(a,b,U,V)\n",
    "x0 = zeros(Float64, num_free_dofs(V))\n",
    "uh_lin = FEFunction(U,x0)\n",
    "\n",
    "ls = BackslashSolver()\n",
    "solver = LinearFESolver(ls)\n",
    "\n",
    "uh_lin, _ = solve!(uh_lin,solver,op)\n",
    "\n",
    "res_file = \"results_new\" |> tcf;\n",
    "\n",
    "function mises(s)\n",
    "    return 0.5 * sqrt((s[1,1] - s[2,2])^2 + (s[2,2] - s[3,3])^2 + (s[3,3] - s[1,1])^2 + 6 * (s[2,3]^2 + s[3,1]^2 + s[1,2]^2))\n",
    "end\n",
    "\n",
    "writevtk(Ω, res_file ,  cellfields=[\"uh\"=>uh_lin,\"sigma\"=>σ∘ε(uh_lin)])"
   ]
  },
  {
   "cell_type": "code",
   "execution_count": null,
   "metadata": {},
   "outputs": [],
   "source": []
  }
 ],
 "metadata": {
  "kernelspec": {
   "display_name": "Julia 1.9.2",
   "language": "julia",
   "name": "julia-1.9"
  },
  "language_info": {
   "file_extension": ".jl",
   "mimetype": "application/julia",
   "name": "julia",
   "version": "1.9.2"
  }
 },
 "nbformat": 4,
 "nbformat_minor": 2
}
